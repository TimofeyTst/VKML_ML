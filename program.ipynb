{
 "cells": [
  {
   "cell_type": "code",
   "execution_count": 77,
   "metadata": {},
   "outputs": [],
   "source": [
    "import pandas as pd\n",
    "import numpy as np\n",
    "from sklearn.ensemble import RandomForestRegressor\n",
    "from sklearn.metrics import mean_absolute_error\n",
    "from sklearn.compose import ColumnTransformer\n",
    "from sklearn.pipeline import Pipeline\n",
    "from sklearn.impute import SimpleImputer\n",
    "from sklearn.preprocessing import StandardScaler, OneHotEncoder\n",
    "from sklearn.ensemble import RandomForestRegressor, GradientBoostingRegressor\n",
    "from sklearn.model_selection import GridSearchCV, train_test_split\n",
    "from catboost import CatBoostRegressor\n",
    "from sklearn.linear_model import LinearRegression"
   ]
  },
  {
   "cell_type": "code",
   "execution_count": 72,
   "metadata": {},
   "outputs": [],
   "source": [
    "train_df = pd.read_csv('data/Train.csv')\n",
    "test_df = pd.read_csv('data/Test.csv')\n",
    "\n",
    "# преобразование поля \"дата\"\n",
    "train_df['year'] = train_df['date'].apply(lambda x: int(x.split('-')[0]))\n",
    "train_df['month'] = train_df['date'].apply(lambda x: int(x.split('-')[1]))\n",
    "train_df.drop('date', axis=1, inplace=True)\n",
    "\n",
    "test_df['year'] = test_df['date'].apply(lambda x: int(x.split('-')[0]))\n",
    "test_df['month'] = test_df['date'].apply(lambda x: int(x.split('-')[1]))\n",
    "test_df.drop('date', axis=1, inplace=True)\n",
    "\n",
    "# удаление столбца \"id\"\n",
    "train_df.drop('id', axis=1, inplace=True)\n",
    "\n",
    "# разделение данных на признаки и целевую переменную\n",
    "X_train = train_df.drop('price', axis=1)\n",
    "y_train = train_df['price']\n",
    "X_test = test_df.drop('id', axis=1)"
   ]
  },
  {
   "attachments": {},
   "cell_type": "markdown",
   "metadata": {},
   "source": [
    "## Обработка данных"
   ]
  },
  {
   "cell_type": "code",
   "execution_count": 100,
   "metadata": {},
   "outputs": [
    {
     "data": {
      "text/html": [
       "<style>#sk-container-id-4 {color: black;background-color: white;}#sk-container-id-4 pre{padding: 0;}#sk-container-id-4 div.sk-toggleable {background-color: white;}#sk-container-id-4 label.sk-toggleable__label {cursor: pointer;display: block;width: 100%;margin-bottom: 0;padding: 0.3em;box-sizing: border-box;text-align: center;}#sk-container-id-4 label.sk-toggleable__label-arrow:before {content: \"▸\";float: left;margin-right: 0.25em;color: #696969;}#sk-container-id-4 label.sk-toggleable__label-arrow:hover:before {color: black;}#sk-container-id-4 div.sk-estimator:hover label.sk-toggleable__label-arrow:before {color: black;}#sk-container-id-4 div.sk-toggleable__content {max-height: 0;max-width: 0;overflow: hidden;text-align: left;background-color: #f0f8ff;}#sk-container-id-4 div.sk-toggleable__content pre {margin: 0.2em;color: black;border-radius: 0.25em;background-color: #f0f8ff;}#sk-container-id-4 input.sk-toggleable__control:checked~div.sk-toggleable__content {max-height: 200px;max-width: 100%;overflow: auto;}#sk-container-id-4 input.sk-toggleable__control:checked~label.sk-toggleable__label-arrow:before {content: \"▾\";}#sk-container-id-4 div.sk-estimator input.sk-toggleable__control:checked~label.sk-toggleable__label {background-color: #d4ebff;}#sk-container-id-4 div.sk-label input.sk-toggleable__control:checked~label.sk-toggleable__label {background-color: #d4ebff;}#sk-container-id-4 input.sk-hidden--visually {border: 0;clip: rect(1px 1px 1px 1px);clip: rect(1px, 1px, 1px, 1px);height: 1px;margin: -1px;overflow: hidden;padding: 0;position: absolute;width: 1px;}#sk-container-id-4 div.sk-estimator {font-family: monospace;background-color: #f0f8ff;border: 1px dotted black;border-radius: 0.25em;box-sizing: border-box;margin-bottom: 0.5em;}#sk-container-id-4 div.sk-estimator:hover {background-color: #d4ebff;}#sk-container-id-4 div.sk-parallel-item::after {content: \"\";width: 100%;border-bottom: 1px solid gray;flex-grow: 1;}#sk-container-id-4 div.sk-label:hover label.sk-toggleable__label {background-color: #d4ebff;}#sk-container-id-4 div.sk-serial::before {content: \"\";position: absolute;border-left: 1px solid gray;box-sizing: border-box;top: 0;bottom: 0;left: 50%;z-index: 0;}#sk-container-id-4 div.sk-serial {display: flex;flex-direction: column;align-items: center;background-color: white;padding-right: 0.2em;padding-left: 0.2em;position: relative;}#sk-container-id-4 div.sk-item {position: relative;z-index: 1;}#sk-container-id-4 div.sk-parallel {display: flex;align-items: stretch;justify-content: center;background-color: white;position: relative;}#sk-container-id-4 div.sk-item::before, #sk-container-id-4 div.sk-parallel-item::before {content: \"\";position: absolute;border-left: 1px solid gray;box-sizing: border-box;top: 0;bottom: 0;left: 50%;z-index: -1;}#sk-container-id-4 div.sk-parallel-item {display: flex;flex-direction: column;z-index: 1;position: relative;background-color: white;}#sk-container-id-4 div.sk-parallel-item:first-child::after {align-self: flex-end;width: 50%;}#sk-container-id-4 div.sk-parallel-item:last-child::after {align-self: flex-start;width: 50%;}#sk-container-id-4 div.sk-parallel-item:only-child::after {width: 0;}#sk-container-id-4 div.sk-dashed-wrapped {border: 1px dashed gray;margin: 0 0.4em 0.5em 0.4em;box-sizing: border-box;padding-bottom: 0.4em;background-color: white;}#sk-container-id-4 div.sk-label label {font-family: monospace;font-weight: bold;display: inline-block;line-height: 1.2em;}#sk-container-id-4 div.sk-label-container {text-align: center;}#sk-container-id-4 div.sk-container {/* jupyter's `normalize.less` sets `[hidden] { display: none; }` but bootstrap.min.css set `[hidden] { display: none !important; }` so we also need the `!important` here to be able to override the default hidden behavior on the sphinx rendered scikit-learn.org. See: https://github.com/scikit-learn/scikit-learn/issues/21755 */display: inline-block !important;position: relative;}#sk-container-id-4 div.sk-text-repr-fallback {display: none;}</style><div id=\"sk-container-id-4\" class=\"sk-top-container\"><div class=\"sk-text-repr-fallback\"><pre>ColumnTransformer(transformers=[(&#x27;num&#x27;,\n",
       "                                 Pipeline(steps=[(&#x27;imputer&#x27;,\n",
       "                                                  SimpleImputer(strategy=&#x27;median&#x27;)),\n",
       "                                                 (&#x27;scaler&#x27;, StandardScaler())]),\n",
       "                                 [&#x27;floor&#x27;, &#x27;area&#x27;, &#x27;metro_dist&#x27;, &#x27;n_photos&#x27;,\n",
       "                                  &#x27;year&#x27;]),\n",
       "                                (&#x27;cat&#x27;,\n",
       "                                 Pipeline(steps=[(&#x27;imputer&#x27;,\n",
       "                                                  SimpleImputer(strategy=&#x27;most_frequent&#x27;)),\n",
       "                                                 (&#x27;onehot&#x27;,\n",
       "                                                  OneHotEncoder(handle_unknown=&#x27;ignore&#x27;))]),\n",
       "                                 [&#x27;street_id&#x27;, &#x27;build_tech&#x27;, &#x27;rooms&#x27;, &#x27;balcon&#x27;,\n",
       "                                  &#x27;g_lift&#x27;, &#x27;month&#x27;, &#x27;kw1&#x27;, &#x27;kw2&#x27;, &#x27;kw3&#x27;, &#x27;kw4&#x27;,\n",
       "                                  &#x27;kw5&#x27;, &#x27;kw6&#x27;, &#x27;kw7&#x27;, &#x27;kw8&#x27;, &#x27;kw9&#x27;, &#x27;kw10&#x27;,\n",
       "                                  &#x27;kw11&#x27;, &#x27;kw12&#x27;, &#x27;kw13&#x27;])])</pre><b>In a Jupyter environment, please rerun this cell to show the HTML representation or trust the notebook. <br />On GitHub, the HTML representation is unable to render, please try loading this page with nbviewer.org.</b></div><div class=\"sk-container\" hidden><div class=\"sk-item sk-dashed-wrapped\"><div class=\"sk-label-container\"><div class=\"sk-label sk-toggleable\"><input class=\"sk-toggleable__control sk-hidden--visually\" id=\"sk-estimator-id-28\" type=\"checkbox\" ><label for=\"sk-estimator-id-28\" class=\"sk-toggleable__label sk-toggleable__label-arrow\">ColumnTransformer</label><div class=\"sk-toggleable__content\"><pre>ColumnTransformer(transformers=[(&#x27;num&#x27;,\n",
       "                                 Pipeline(steps=[(&#x27;imputer&#x27;,\n",
       "                                                  SimpleImputer(strategy=&#x27;median&#x27;)),\n",
       "                                                 (&#x27;scaler&#x27;, StandardScaler())]),\n",
       "                                 [&#x27;floor&#x27;, &#x27;area&#x27;, &#x27;metro_dist&#x27;, &#x27;n_photos&#x27;,\n",
       "                                  &#x27;year&#x27;]),\n",
       "                                (&#x27;cat&#x27;,\n",
       "                                 Pipeline(steps=[(&#x27;imputer&#x27;,\n",
       "                                                  SimpleImputer(strategy=&#x27;most_frequent&#x27;)),\n",
       "                                                 (&#x27;onehot&#x27;,\n",
       "                                                  OneHotEncoder(handle_unknown=&#x27;ignore&#x27;))]),\n",
       "                                 [&#x27;street_id&#x27;, &#x27;build_tech&#x27;, &#x27;rooms&#x27;, &#x27;balcon&#x27;,\n",
       "                                  &#x27;g_lift&#x27;, &#x27;month&#x27;, &#x27;kw1&#x27;, &#x27;kw2&#x27;, &#x27;kw3&#x27;, &#x27;kw4&#x27;,\n",
       "                                  &#x27;kw5&#x27;, &#x27;kw6&#x27;, &#x27;kw7&#x27;, &#x27;kw8&#x27;, &#x27;kw9&#x27;, &#x27;kw10&#x27;,\n",
       "                                  &#x27;kw11&#x27;, &#x27;kw12&#x27;, &#x27;kw13&#x27;])])</pre></div></div></div><div class=\"sk-parallel\"><div class=\"sk-parallel-item\"><div class=\"sk-item\"><div class=\"sk-label-container\"><div class=\"sk-label sk-toggleable\"><input class=\"sk-toggleable__control sk-hidden--visually\" id=\"sk-estimator-id-29\" type=\"checkbox\" ><label for=\"sk-estimator-id-29\" class=\"sk-toggleable__label sk-toggleable__label-arrow\">num</label><div class=\"sk-toggleable__content\"><pre>[&#x27;floor&#x27;, &#x27;area&#x27;, &#x27;metro_dist&#x27;, &#x27;n_photos&#x27;, &#x27;year&#x27;]</pre></div></div></div><div class=\"sk-serial\"><div class=\"sk-item\"><div class=\"sk-serial\"><div class=\"sk-item\"><div class=\"sk-estimator sk-toggleable\"><input class=\"sk-toggleable__control sk-hidden--visually\" id=\"sk-estimator-id-30\" type=\"checkbox\" ><label for=\"sk-estimator-id-30\" class=\"sk-toggleable__label sk-toggleable__label-arrow\">SimpleImputer</label><div class=\"sk-toggleable__content\"><pre>SimpleImputer(strategy=&#x27;median&#x27;)</pre></div></div></div><div class=\"sk-item\"><div class=\"sk-estimator sk-toggleable\"><input class=\"sk-toggleable__control sk-hidden--visually\" id=\"sk-estimator-id-31\" type=\"checkbox\" ><label for=\"sk-estimator-id-31\" class=\"sk-toggleable__label sk-toggleable__label-arrow\">StandardScaler</label><div class=\"sk-toggleable__content\"><pre>StandardScaler()</pre></div></div></div></div></div></div></div></div><div class=\"sk-parallel-item\"><div class=\"sk-item\"><div class=\"sk-label-container\"><div class=\"sk-label sk-toggleable\"><input class=\"sk-toggleable__control sk-hidden--visually\" id=\"sk-estimator-id-32\" type=\"checkbox\" ><label for=\"sk-estimator-id-32\" class=\"sk-toggleable__label sk-toggleable__label-arrow\">cat</label><div class=\"sk-toggleable__content\"><pre>[&#x27;street_id&#x27;, &#x27;build_tech&#x27;, &#x27;rooms&#x27;, &#x27;balcon&#x27;, &#x27;g_lift&#x27;, &#x27;month&#x27;, &#x27;kw1&#x27;, &#x27;kw2&#x27;, &#x27;kw3&#x27;, &#x27;kw4&#x27;, &#x27;kw5&#x27;, &#x27;kw6&#x27;, &#x27;kw7&#x27;, &#x27;kw8&#x27;, &#x27;kw9&#x27;, &#x27;kw10&#x27;, &#x27;kw11&#x27;, &#x27;kw12&#x27;, &#x27;kw13&#x27;]</pre></div></div></div><div class=\"sk-serial\"><div class=\"sk-item\"><div class=\"sk-serial\"><div class=\"sk-item\"><div class=\"sk-estimator sk-toggleable\"><input class=\"sk-toggleable__control sk-hidden--visually\" id=\"sk-estimator-id-33\" type=\"checkbox\" ><label for=\"sk-estimator-id-33\" class=\"sk-toggleable__label sk-toggleable__label-arrow\">SimpleImputer</label><div class=\"sk-toggleable__content\"><pre>SimpleImputer(strategy=&#x27;most_frequent&#x27;)</pre></div></div></div><div class=\"sk-item\"><div class=\"sk-estimator sk-toggleable\"><input class=\"sk-toggleable__control sk-hidden--visually\" id=\"sk-estimator-id-34\" type=\"checkbox\" ><label for=\"sk-estimator-id-34\" class=\"sk-toggleable__label sk-toggleable__label-arrow\">OneHotEncoder</label><div class=\"sk-toggleable__content\"><pre>OneHotEncoder(handle_unknown=&#x27;ignore&#x27;)</pre></div></div></div></div></div></div></div></div></div></div></div></div>"
      ],
      "text/plain": [
       "ColumnTransformer(transformers=[('num',\n",
       "                                 Pipeline(steps=[('imputer',\n",
       "                                                  SimpleImputer(strategy='median')),\n",
       "                                                 ('scaler', StandardScaler())]),\n",
       "                                 ['floor', 'area', 'metro_dist', 'n_photos',\n",
       "                                  'year']),\n",
       "                                ('cat',\n",
       "                                 Pipeline(steps=[('imputer',\n",
       "                                                  SimpleImputer(strategy='most_frequent')),\n",
       "                                                 ('onehot',\n",
       "                                                  OneHotEncoder(handle_unknown='ignore'))]),\n",
       "                                 ['street_id', 'build_tech', 'rooms', 'balcon',\n",
       "                                  'g_lift', 'month', 'kw1', 'kw2', 'kw3', 'kw4',\n",
       "                                  'kw5', 'kw6', 'kw7', 'kw8', 'kw9', 'kw10',\n",
       "                                  'kw11', 'kw12', 'kw13'])])"
      ]
     },
     "execution_count": 100,
     "metadata": {},
     "output_type": "execute_result"
    }
   ],
   "source": [
    "# определение числовых и категориальных признаков\n",
    "numeric_features = ['floor', 'area', 'metro_dist', 'n_photos', 'year']\n",
    "categorical_features = ['street_id', 'build_tech', 'rooms', 'balcon', 'g_lift', 'month',\n",
    "                        'kw1', 'kw2', 'kw3', 'kw4', 'kw5', 'kw6', 'kw7', 'kw8', 'kw9', 'kw10',\n",
    "                        'kw11', 'kw12', 'kw13']\n",
    "\n",
    "# создание пайплайнов для обработки числовых и категориальных признаков\n",
    "numeric_transformer = Pipeline(steps=[\n",
    "    ('imputer', SimpleImputer(strategy='median')),\n",
    "    ('scaler', StandardScaler())\n",
    "])\n",
    "\n",
    "categorical_transformer = Pipeline(steps=[\n",
    "    ('imputer', SimpleImputer(strategy='most_frequent')),\n",
    "    ('onehot', OneHotEncoder(handle_unknown='ignore'))\n",
    "])\n",
    "\n",
    "# создание препроцессора, объединяющего числовой и категориальный пайплайны\n",
    "preprocessor = ColumnTransformer(\n",
    "    transformers=[\n",
    "        ('num', numeric_transformer, numeric_features),\n",
    "        ('cat', categorical_transformer, categorical_features)\n",
    "    ])\n",
    "\n",
    "# подгонка препроцессора к обучающей выборке\n",
    "preprocessor.fit(X_train)"
   ]
  },
  {
   "attachments": {},
   "cell_type": "markdown",
   "metadata": {},
   "source": [
    "## Обучение RandomForest"
   ]
  },
  {
   "cell_type": "code",
   "execution_count": 10,
   "metadata": {},
   "outputs": [
    {
     "data": {
      "text/html": [
       "<style>#sk-container-id-1 {color: black;background-color: white;}#sk-container-id-1 pre{padding: 0;}#sk-container-id-1 div.sk-toggleable {background-color: white;}#sk-container-id-1 label.sk-toggleable__label {cursor: pointer;display: block;width: 100%;margin-bottom: 0;padding: 0.3em;box-sizing: border-box;text-align: center;}#sk-container-id-1 label.sk-toggleable__label-arrow:before {content: \"▸\";float: left;margin-right: 0.25em;color: #696969;}#sk-container-id-1 label.sk-toggleable__label-arrow:hover:before {color: black;}#sk-container-id-1 div.sk-estimator:hover label.sk-toggleable__label-arrow:before {color: black;}#sk-container-id-1 div.sk-toggleable__content {max-height: 0;max-width: 0;overflow: hidden;text-align: left;background-color: #f0f8ff;}#sk-container-id-1 div.sk-toggleable__content pre {margin: 0.2em;color: black;border-radius: 0.25em;background-color: #f0f8ff;}#sk-container-id-1 input.sk-toggleable__control:checked~div.sk-toggleable__content {max-height: 200px;max-width: 100%;overflow: auto;}#sk-container-id-1 input.sk-toggleable__control:checked~label.sk-toggleable__label-arrow:before {content: \"▾\";}#sk-container-id-1 div.sk-estimator input.sk-toggleable__control:checked~label.sk-toggleable__label {background-color: #d4ebff;}#sk-container-id-1 div.sk-label input.sk-toggleable__control:checked~label.sk-toggleable__label {background-color: #d4ebff;}#sk-container-id-1 input.sk-hidden--visually {border: 0;clip: rect(1px 1px 1px 1px);clip: rect(1px, 1px, 1px, 1px);height: 1px;margin: -1px;overflow: hidden;padding: 0;position: absolute;width: 1px;}#sk-container-id-1 div.sk-estimator {font-family: monospace;background-color: #f0f8ff;border: 1px dotted black;border-radius: 0.25em;box-sizing: border-box;margin-bottom: 0.5em;}#sk-container-id-1 div.sk-estimator:hover {background-color: #d4ebff;}#sk-container-id-1 div.sk-parallel-item::after {content: \"\";width: 100%;border-bottom: 1px solid gray;flex-grow: 1;}#sk-container-id-1 div.sk-label:hover label.sk-toggleable__label {background-color: #d4ebff;}#sk-container-id-1 div.sk-serial::before {content: \"\";position: absolute;border-left: 1px solid gray;box-sizing: border-box;top: 0;bottom: 0;left: 50%;z-index: 0;}#sk-container-id-1 div.sk-serial {display: flex;flex-direction: column;align-items: center;background-color: white;padding-right: 0.2em;padding-left: 0.2em;position: relative;}#sk-container-id-1 div.sk-item {position: relative;z-index: 1;}#sk-container-id-1 div.sk-parallel {display: flex;align-items: stretch;justify-content: center;background-color: white;position: relative;}#sk-container-id-1 div.sk-item::before, #sk-container-id-1 div.sk-parallel-item::before {content: \"\";position: absolute;border-left: 1px solid gray;box-sizing: border-box;top: 0;bottom: 0;left: 50%;z-index: -1;}#sk-container-id-1 div.sk-parallel-item {display: flex;flex-direction: column;z-index: 1;position: relative;background-color: white;}#sk-container-id-1 div.sk-parallel-item:first-child::after {align-self: flex-end;width: 50%;}#sk-container-id-1 div.sk-parallel-item:last-child::after {align-self: flex-start;width: 50%;}#sk-container-id-1 div.sk-parallel-item:only-child::after {width: 0;}#sk-container-id-1 div.sk-dashed-wrapped {border: 1px dashed gray;margin: 0 0.4em 0.5em 0.4em;box-sizing: border-box;padding-bottom: 0.4em;background-color: white;}#sk-container-id-1 div.sk-label label {font-family: monospace;font-weight: bold;display: inline-block;line-height: 1.2em;}#sk-container-id-1 div.sk-label-container {text-align: center;}#sk-container-id-1 div.sk-container {/* jupyter's `normalize.less` sets `[hidden] { display: none; }` but bootstrap.min.css set `[hidden] { display: none !important; }` so we also need the `!important` here to be able to override the default hidden behavior on the sphinx rendered scikit-learn.org. See: https://github.com/scikit-learn/scikit-learn/issues/21755 */display: inline-block !important;position: relative;}#sk-container-id-1 div.sk-text-repr-fallback {display: none;}</style><div id=\"sk-container-id-1\" class=\"sk-top-container\"><div class=\"sk-text-repr-fallback\"><pre>RandomForestRegressor(random_state=42)</pre><b>In a Jupyter environment, please rerun this cell to show the HTML representation or trust the notebook. <br />On GitHub, the HTML representation is unable to render, please try loading this page with nbviewer.org.</b></div><div class=\"sk-container\" hidden><div class=\"sk-item\"><div class=\"sk-estimator sk-toggleable\"><input class=\"sk-toggleable__control sk-hidden--visually\" id=\"sk-estimator-id-1\" type=\"checkbox\" checked><label for=\"sk-estimator-id-1\" class=\"sk-toggleable__label sk-toggleable__label-arrow\">RandomForestRegressor</label><div class=\"sk-toggleable__content\"><pre>RandomForestRegressor(random_state=42)</pre></div></div></div></div></div>"
      ],
      "text/plain": [
       "RandomForestRegressor(random_state=42)"
      ]
     },
     "execution_count": 10,
     "metadata": {},
     "output_type": "execute_result"
    }
   ],
   "source": [
    "# создание модели случайного леса и ее обучение на обучающей выборке\n",
    "model = RandomForestRegressor(n_estimators=100, random_state=42)\n",
    "model.fit(X_train, y_train)"
   ]
  },
  {
   "attachments": {},
   "cell_type": "markdown",
   "metadata": {},
   "source": [
    "### Начинаем менять параметры моделей и подключать preprocessor"
   ]
  },
  {
   "attachments": {},
   "cell_type": "markdown",
   "metadata": {},
   "source": [
    "## Обучение RandomForest"
   ]
  },
  {
   "cell_type": "code",
   "execution_count": 68,
   "metadata": {},
   "outputs": [
    {
     "name": "stdout",
     "output_type": "stream",
     "text": [
      "Fitting 5 folds for each of 36 candidates, totalling 180 fits\n",
      "[CV] END regressor__max_depth=1, regressor__min_samples_leaf=2, regressor__min_samples_split=2, regressor__n_estimators=50; total time=   1.5s\n",
      "[CV] END regressor__max_depth=1, regressor__min_samples_leaf=2, regressor__min_samples_split=2, regressor__n_estimators=50; total time=   1.5s\n",
      "[CV] END regressor__max_depth=1, regressor__min_samples_leaf=2, regressor__min_samples_split=2, regressor__n_estimators=50; total time=   1.7s\n",
      "[CV] END regressor__max_depth=1, regressor__min_samples_leaf=2, regressor__min_samples_split=2, regressor__n_estimators=50; total time=   2.0s\n",
      "[CV] END regressor__max_depth=1, regressor__min_samples_leaf=2, regressor__min_samples_split=2, regressor__n_estimators=50; total time=   1.8s\n",
      "[CV] END regressor__max_depth=1, regressor__min_samples_leaf=2, regressor__min_samples_split=5, regressor__n_estimators=50; total time=   1.6s\n",
      "[CV] END regressor__max_depth=1, regressor__min_samples_leaf=2, regressor__min_samples_split=5, regressor__n_estimators=50; total time=   2.0s\n",
      "[CV] END regressor__max_depth=1, regressor__min_samples_leaf=2, regressor__min_samples_split=5, regressor__n_estimators=50; total time=   2.3s\n",
      "[CV] END regressor__max_depth=1, regressor__min_samples_leaf=2, regressor__min_samples_split=5, regressor__n_estimators=50; total time=   1.8s\n",
      "[CV] END regressor__max_depth=1, regressor__min_samples_leaf=2, regressor__min_samples_split=5, regressor__n_estimators=50; total time=   2.1s\n",
      "[CV] END regressor__max_depth=1, regressor__min_samples_leaf=2, regressor__min_samples_split=2, regressor__n_estimators=200; total time=   5.7s\n",
      "[CV] END regressor__max_depth=1, regressor__min_samples_leaf=2, regressor__min_samples_split=2, regressor__n_estimators=200; total time=   6.6s\n",
      "[CV] END regressor__max_depth=1, regressor__min_samples_leaf=2, regressor__min_samples_split=2, regressor__n_estimators=200; total time=   7.0s\n",
      "[CV] END regressor__max_depth=1, regressor__min_samples_leaf=2, regressor__min_samples_split=2, regressor__n_estimators=200; total time=   6.6s\n",
      "[CV] END regressor__max_depth=1, regressor__min_samples_leaf=2, regressor__min_samples_split=2, regressor__n_estimators=200; total time=   6.6s\n",
      "[CV] END regressor__max_depth=1, regressor__min_samples_leaf=2, regressor__min_samples_split=10, regressor__n_estimators=50; total time=   1.7s\n",
      "[CV] END regressor__max_depth=1, regressor__min_samples_leaf=2, regressor__min_samples_split=10, regressor__n_estimators=50; total time=   1.6s\n",
      "[CV] END regressor__max_depth=1, regressor__min_samples_leaf=2, regressor__min_samples_split=10, regressor__n_estimators=50; total time=   2.0s\n",
      "[CV] END regressor__max_depth=1, regressor__min_samples_leaf=2, regressor__min_samples_split=5, regressor__n_estimators=200; total time=   6.3s\n",
      "[CV] END regressor__max_depth=1, regressor__min_samples_leaf=2, regressor__min_samples_split=10, regressor__n_estimators=50; total time=   1.9s\n",
      "[CV] END regressor__max_depth=1, regressor__min_samples_leaf=2, regressor__min_samples_split=10, regressor__n_estimators=50; total time=   1.7s\n",
      "[CV] END regressor__max_depth=1, regressor__min_samples_leaf=2, regressor__min_samples_split=5, regressor__n_estimators=200; total time=   5.9s\n",
      "[CV] END regressor__max_depth=1, regressor__min_samples_leaf=2, regressor__min_samples_split=5, regressor__n_estimators=200; total time=   6.6s\n",
      "[CV] END regressor__max_depth=1, regressor__min_samples_leaf=2, regressor__min_samples_split=5, regressor__n_estimators=200; total time=   5.8s\n",
      "[CV] END regressor__max_depth=1, regressor__min_samples_leaf=2, regressor__min_samples_split=5, regressor__n_estimators=200; total time=   7.3s\n",
      "[CV] END regressor__max_depth=1, regressor__min_samples_leaf=4, regressor__min_samples_split=2, regressor__n_estimators=50; total time=   1.7s\n",
      "[CV] END regressor__max_depth=1, regressor__min_samples_leaf=4, regressor__min_samples_split=2, regressor__n_estimators=50; total time=   1.6s\n",
      "[CV] END regressor__max_depth=1, regressor__min_samples_leaf=4, regressor__min_samples_split=2, regressor__n_estimators=50; total time=   1.9s\n",
      "[CV] END regressor__max_depth=1, regressor__min_samples_leaf=4, regressor__min_samples_split=2, regressor__n_estimators=50; total time=   1.7s\n",
      "[CV] END regressor__max_depth=1, regressor__min_samples_leaf=2, regressor__min_samples_split=10, regressor__n_estimators=200; total time=   6.1s\n",
      "[CV] END regressor__max_depth=1, regressor__min_samples_leaf=4, regressor__min_samples_split=2, regressor__n_estimators=50; total time=   1.9s\n",
      "[CV] END regressor__max_depth=1, regressor__min_samples_leaf=2, regressor__min_samples_split=10, regressor__n_estimators=200; total time=   6.0s\n",
      "[CV] END regressor__max_depth=1, regressor__min_samples_leaf=2, regressor__min_samples_split=10, regressor__n_estimators=200; total time=   6.4s\n",
      "[CV] END regressor__max_depth=1, regressor__min_samples_leaf=2, regressor__min_samples_split=10, regressor__n_estimators=200; total time=   6.0s\n",
      "[CV] END regressor__max_depth=1, regressor__min_samples_leaf=2, regressor__min_samples_split=10, regressor__n_estimators=200; total time=   6.6s\n",
      "[CV] END regressor__max_depth=1, regressor__min_samples_leaf=4, regressor__min_samples_split=5, regressor__n_estimators=50; total time=   1.6s\n",
      "[CV] END regressor__max_depth=1, regressor__min_samples_leaf=4, regressor__min_samples_split=5, regressor__n_estimators=50; total time=   1.9s\n",
      "[CV] END regressor__max_depth=1, regressor__min_samples_leaf=4, regressor__min_samples_split=5, regressor__n_estimators=50; total time=   1.8s\n",
      "[CV] END regressor__max_depth=1, regressor__min_samples_leaf=4, regressor__min_samples_split=5, regressor__n_estimators=50; total time=   1.6s\n",
      "[CV] END regressor__max_depth=1, regressor__min_samples_leaf=4, regressor__min_samples_split=2, regressor__n_estimators=200; total time=   6.1s\n",
      "[CV] END regressor__max_depth=1, regressor__min_samples_leaf=4, regressor__min_samples_split=2, regressor__n_estimators=200; total time=   6.4s\n",
      "[CV] END regressor__max_depth=1, regressor__min_samples_leaf=4, regressor__min_samples_split=5, regressor__n_estimators=50; total time=   2.6s\n",
      "[CV] END regressor__max_depth=1, regressor__min_samples_leaf=4, regressor__min_samples_split=2, regressor__n_estimators=200; total time=   6.5s\n",
      "[CV] END regressor__max_depth=1, regressor__min_samples_leaf=4, regressor__min_samples_split=2, regressor__n_estimators=200; total time=   6.9s\n",
      "[CV] END regressor__max_depth=1, regressor__min_samples_leaf=4, regressor__min_samples_split=2, regressor__n_estimators=200; total time=   7.2s\n",
      "[CV] END regressor__max_depth=1, regressor__min_samples_leaf=4, regressor__min_samples_split=10, regressor__n_estimators=50; total time=   1.6s\n",
      "[CV] END regressor__max_depth=1, regressor__min_samples_leaf=4, regressor__min_samples_split=10, regressor__n_estimators=50; total time=   2.0s\n",
      "[CV] END regressor__max_depth=1, regressor__min_samples_leaf=4, regressor__min_samples_split=10, regressor__n_estimators=50; total time=   1.5s\n",
      "[CV] END regressor__max_depth=1, regressor__min_samples_leaf=4, regressor__min_samples_split=5, regressor__n_estimators=200; total time=   5.6s\n",
      "[CV] END regressor__max_depth=1, regressor__min_samples_leaf=4, regressor__min_samples_split=10, regressor__n_estimators=50; total time=   1.5s\n",
      "[CV] END regressor__max_depth=1, regressor__min_samples_leaf=4, regressor__min_samples_split=10, regressor__n_estimators=50; total time=   1.6s\n",
      "[CV] END regressor__max_depth=1, regressor__min_samples_leaf=4, regressor__min_samples_split=5, regressor__n_estimators=200; total time=   6.1s\n",
      "[CV] END regressor__max_depth=1, regressor__min_samples_leaf=4, regressor__min_samples_split=5, regressor__n_estimators=200; total time=   6.5s\n",
      "[CV] END regressor__max_depth=1, regressor__min_samples_leaf=4, regressor__min_samples_split=5, regressor__n_estimators=200; total time=   6.1s\n",
      "[CV] END regressor__max_depth=1, regressor__min_samples_leaf=4, regressor__min_samples_split=5, regressor__n_estimators=200; total time=   6.0s\n",
      "[CV] END regressor__max_depth=1, regressor__min_samples_leaf=4, regressor__min_samples_split=10, regressor__n_estimators=200; total time=   5.7s\n",
      "[CV] END regressor__max_depth=1, regressor__min_samples_leaf=4, regressor__min_samples_split=10, regressor__n_estimators=200; total time=   5.8s\n",
      "[CV] END regressor__max_depth=1, regressor__min_samples_leaf=4, regressor__min_samples_split=10, regressor__n_estimators=200; total time=   5.4s\n",
      "[CV] END regressor__max_depth=1, regressor__min_samples_leaf=4, regressor__min_samples_split=10, regressor__n_estimators=200; total time=   5.0s\n",
      "[CV] END regressor__max_depth=1, regressor__min_samples_leaf=4, regressor__min_samples_split=10, regressor__n_estimators=200; total time=   5.1s\n",
      "[CV] END regressor__max_depth=5, regressor__min_samples_leaf=2, regressor__min_samples_split=2, regressor__n_estimators=50; total time=  10.2s\n",
      "[CV] END regressor__max_depth=5, regressor__min_samples_leaf=2, regressor__min_samples_split=2, regressor__n_estimators=50; total time=  10.1s\n",
      "[CV] END regressor__max_depth=5, regressor__min_samples_leaf=2, regressor__min_samples_split=2, regressor__n_estimators=50; total time=  10.2s\n",
      "[CV] END regressor__max_depth=5, regressor__min_samples_leaf=2, regressor__min_samples_split=2, regressor__n_estimators=50; total time=   9.8s\n",
      "[CV] END regressor__max_depth=5, regressor__min_samples_leaf=2, regressor__min_samples_split=2, regressor__n_estimators=50; total time=  10.2s\n",
      "[CV] END regressor__max_depth=5, regressor__min_samples_leaf=2, regressor__min_samples_split=5, regressor__n_estimators=50; total time=  10.5s\n",
      "[CV] END regressor__max_depth=5, regressor__min_samples_leaf=2, regressor__min_samples_split=5, regressor__n_estimators=50; total time=  10.4s\n",
      "[CV] END regressor__max_depth=5, regressor__min_samples_leaf=2, regressor__min_samples_split=5, regressor__n_estimators=50; total time=  10.8s\n",
      "[CV] END regressor__max_depth=5, regressor__min_samples_leaf=2, regressor__min_samples_split=5, regressor__n_estimators=50; total time=   9.5s\n",
      "[CV] END regressor__max_depth=5, regressor__min_samples_leaf=2, regressor__min_samples_split=5, regressor__n_estimators=50; total time=   9.9s\n",
      "[CV] END regressor__max_depth=5, regressor__min_samples_leaf=2, regressor__min_samples_split=2, regressor__n_estimators=200; total time=  38.6s\n",
      "[CV] END regressor__max_depth=5, regressor__min_samples_leaf=2, regressor__min_samples_split=2, regressor__n_estimators=200; total time=  39.0s\n",
      "[CV] END regressor__max_depth=5, regressor__min_samples_leaf=2, regressor__min_samples_split=2, regressor__n_estimators=200; total time=  40.8s\n",
      "[CV] END regressor__max_depth=5, regressor__min_samples_leaf=2, regressor__min_samples_split=2, regressor__n_estimators=200; total time=  39.5s\n",
      "[CV] END regressor__max_depth=5, regressor__min_samples_leaf=2, regressor__min_samples_split=2, regressor__n_estimators=200; total time=  42.5s\n",
      "[CV] END regressor__max_depth=5, regressor__min_samples_leaf=2, regressor__min_samples_split=10, regressor__n_estimators=50; total time=  12.5s\n",
      "[CV] END regressor__max_depth=5, regressor__min_samples_leaf=2, regressor__min_samples_split=10, regressor__n_estimators=50; total time=  10.4s\n",
      "[CV] END regressor__max_depth=5, regressor__min_samples_leaf=2, regressor__min_samples_split=10, regressor__n_estimators=50; total time=   9.8s\n",
      "[CV] END regressor__max_depth=5, regressor__min_samples_leaf=2, regressor__min_samples_split=10, regressor__n_estimators=50; total time=   9.2s\n",
      "[CV] END regressor__max_depth=5, regressor__min_samples_leaf=2, regressor__min_samples_split=5, regressor__n_estimators=200; total time=  42.2s\n",
      "[CV] END regressor__max_depth=5, regressor__min_samples_leaf=2, regressor__min_samples_split=5, regressor__n_estimators=200; total time=  37.8s\n",
      "[CV] END regressor__max_depth=5, regressor__min_samples_leaf=2, regressor__min_samples_split=10, regressor__n_estimators=50; total time=  10.0s\n",
      "[CV] END regressor__max_depth=5, regressor__min_samples_leaf=2, regressor__min_samples_split=5, regressor__n_estimators=200; total time=  43.0s\n",
      "[CV] END regressor__max_depth=5, regressor__min_samples_leaf=2, regressor__min_samples_split=5, regressor__n_estimators=200; total time=  41.6s\n",
      "[CV] END regressor__max_depth=5, regressor__min_samples_leaf=2, regressor__min_samples_split=5, regressor__n_estimators=200; total time=  41.8s\n",
      "[CV] END regressor__max_depth=5, regressor__min_samples_leaf=4, regressor__min_samples_split=2, regressor__n_estimators=50; total time=  11.1s\n",
      "[CV] END regressor__max_depth=5, regressor__min_samples_leaf=4, regressor__min_samples_split=2, regressor__n_estimators=50; total time=  10.2s\n",
      "[CV] END regressor__max_depth=5, regressor__min_samples_leaf=4, regressor__min_samples_split=2, regressor__n_estimators=50; total time=   9.5s\n",
      "[CV] END regressor__max_depth=5, regressor__min_samples_leaf=4, regressor__min_samples_split=2, regressor__n_estimators=50; total time=   9.5s\n",
      "[CV] END regressor__max_depth=5, regressor__min_samples_leaf=2, regressor__min_samples_split=10, regressor__n_estimators=200; total time=  39.2s\n",
      "[CV] END regressor__max_depth=5, regressor__min_samples_leaf=4, regressor__min_samples_split=2, regressor__n_estimators=50; total time=   9.1s\n",
      "[CV] END regressor__max_depth=5, regressor__min_samples_leaf=2, regressor__min_samples_split=10, regressor__n_estimators=200; total time=  38.3s\n",
      "[CV] END regressor__max_depth=5, regressor__min_samples_leaf=2, regressor__min_samples_split=10, regressor__n_estimators=200; total time=  38.9s\n",
      "[CV] END regressor__max_depth=5, regressor__min_samples_leaf=2, regressor__min_samples_split=10, regressor__n_estimators=200; total time=  39.3s\n",
      "[CV] END regressor__max_depth=5, regressor__min_samples_leaf=2, regressor__min_samples_split=10, regressor__n_estimators=200; total time=  40.6s\n",
      "[CV] END regressor__max_depth=5, regressor__min_samples_leaf=4, regressor__min_samples_split=5, regressor__n_estimators=50; total time=   8.8s\n",
      "[CV] END regressor__max_depth=5, regressor__min_samples_leaf=4, regressor__min_samples_split=5, regressor__n_estimators=50; total time=   9.5s\n",
      "[CV] END regressor__max_depth=5, regressor__min_samples_leaf=4, regressor__min_samples_split=5, regressor__n_estimators=50; total time=   9.5s\n",
      "[CV] END regressor__max_depth=5, regressor__min_samples_leaf=4, regressor__min_samples_split=5, regressor__n_estimators=50; total time=   8.9s\n",
      "[CV] END regressor__max_depth=5, regressor__min_samples_leaf=4, regressor__min_samples_split=5, regressor__n_estimators=50; total time=   9.7s\n",
      "[CV] END regressor__max_depth=5, regressor__min_samples_leaf=4, regressor__min_samples_split=2, regressor__n_estimators=200; total time=  38.1s\n",
      "[CV] END regressor__max_depth=5, regressor__min_samples_leaf=4, regressor__min_samples_split=2, regressor__n_estimators=200; total time=  37.6s\n",
      "[CV] END regressor__max_depth=5, regressor__min_samples_leaf=4, regressor__min_samples_split=2, regressor__n_estimators=200; total time=  38.6s\n",
      "[CV] END regressor__max_depth=5, regressor__min_samples_leaf=4, regressor__min_samples_split=2, regressor__n_estimators=200; total time=  38.3s\n",
      "[CV] END regressor__max_depth=5, regressor__min_samples_leaf=4, regressor__min_samples_split=2, regressor__n_estimators=200; total time=  40.0s\n",
      "[CV] END regressor__max_depth=5, regressor__min_samples_leaf=4, regressor__min_samples_split=10, regressor__n_estimators=50; total time=  10.1s\n",
      "[CV] END regressor__max_depth=5, regressor__min_samples_leaf=4, regressor__min_samples_split=10, regressor__n_estimators=50; total time=  10.7s\n",
      "[CV] END regressor__max_depth=5, regressor__min_samples_leaf=4, regressor__min_samples_split=10, regressor__n_estimators=50; total time=  12.5s\n",
      "[CV] END regressor__max_depth=5, regressor__min_samples_leaf=4, regressor__min_samples_split=10, regressor__n_estimators=50; total time=  11.5s\n",
      "[CV] END regressor__max_depth=5, regressor__min_samples_leaf=4, regressor__min_samples_split=5, regressor__n_estimators=200; total time=  42.3s\n",
      "[CV] END regressor__max_depth=5, regressor__min_samples_leaf=4, regressor__min_samples_split=10, regressor__n_estimators=50; total time=  10.9s\n",
      "[CV] END regressor__max_depth=5, regressor__min_samples_leaf=4, regressor__min_samples_split=5, regressor__n_estimators=200; total time=  44.3s\n",
      "[CV] END regressor__max_depth=5, regressor__min_samples_leaf=4, regressor__min_samples_split=5, regressor__n_estimators=200; total time=  44.6s\n",
      "[CV] END regressor__max_depth=5, regressor__min_samples_leaf=4, regressor__min_samples_split=5, regressor__n_estimators=200; total time=  41.7s\n",
      "[CV] END regressor__max_depth=5, regressor__min_samples_leaf=4, regressor__min_samples_split=5, regressor__n_estimators=200; total time=  46.9s\n",
      "[CV] END regressor__max_depth=5, regressor__min_samples_leaf=4, regressor__min_samples_split=10, regressor__n_estimators=200; total time=  39.1s\n",
      "[CV] END regressor__max_depth=5, regressor__min_samples_leaf=4, regressor__min_samples_split=10, regressor__n_estimators=200; total time=  45.2s\n",
      "[CV] END regressor__max_depth=5, regressor__min_samples_leaf=4, regressor__min_samples_split=10, regressor__n_estimators=200; total time=  41.1s\n",
      "[CV] END regressor__max_depth=5, regressor__min_samples_leaf=4, regressor__min_samples_split=10, regressor__n_estimators=200; total time=  43.0s\n",
      "[CV] END regressor__max_depth=5, regressor__min_samples_leaf=4, regressor__min_samples_split=10, regressor__n_estimators=200; total time=  43.2s\n",
      "[CV] END regressor__max_depth=10, regressor__min_samples_leaf=2, regressor__min_samples_split=2, regressor__n_estimators=50; total time=  40.3s\n",
      "[CV] END regressor__max_depth=10, regressor__min_samples_leaf=2, regressor__min_samples_split=2, regressor__n_estimators=50; total time=  39.4s\n",
      "[CV] END regressor__max_depth=10, regressor__min_samples_leaf=2, regressor__min_samples_split=2, regressor__n_estimators=50; total time=  37.3s\n",
      "[CV] END regressor__max_depth=10, regressor__min_samples_leaf=2, regressor__min_samples_split=2, regressor__n_estimators=50; total time=  32.1s\n",
      "[CV] END regressor__max_depth=10, regressor__min_samples_leaf=2, regressor__min_samples_split=2, regressor__n_estimators=50; total time=  33.0s\n",
      "[CV] END regressor__max_depth=10, regressor__min_samples_leaf=2, regressor__min_samples_split=5, regressor__n_estimators=50; total time=  34.6s\n",
      "[CV] END regressor__max_depth=10, regressor__min_samples_leaf=2, regressor__min_samples_split=5, regressor__n_estimators=50; total time=  35.2s\n",
      "[CV] END regressor__max_depth=10, regressor__min_samples_leaf=2, regressor__min_samples_split=5, regressor__n_estimators=50; total time=  35.1s\n",
      "[CV] END regressor__max_depth=10, regressor__min_samples_leaf=2, regressor__min_samples_split=5, regressor__n_estimators=50; total time=  35.9s\n",
      "[CV] END regressor__max_depth=10, regressor__min_samples_leaf=2, regressor__min_samples_split=5, regressor__n_estimators=50; total time=  34.6s\n",
      "[CV] END regressor__max_depth=10, regressor__min_samples_leaf=2, regressor__min_samples_split=2, regressor__n_estimators=200; total time= 2.4min\n",
      "[CV] END regressor__max_depth=10, regressor__min_samples_leaf=2, regressor__min_samples_split=2, regressor__n_estimators=200; total time= 2.5min\n",
      "[CV] END regressor__max_depth=10, regressor__min_samples_leaf=2, regressor__min_samples_split=2, regressor__n_estimators=200; total time= 2.4min\n",
      "[CV] END regressor__max_depth=10, regressor__min_samples_leaf=2, regressor__min_samples_split=2, regressor__n_estimators=200; total time= 2.4min\n",
      "[CV] END regressor__max_depth=10, regressor__min_samples_leaf=2, regressor__min_samples_split=2, regressor__n_estimators=200; total time= 2.4min\n",
      "[CV] END regressor__max_depth=10, regressor__min_samples_leaf=2, regressor__min_samples_split=10, regressor__n_estimators=50; total time=  35.5s\n",
      "[CV] END regressor__max_depth=10, regressor__min_samples_leaf=2, regressor__min_samples_split=10, regressor__n_estimators=50; total time=  35.6s\n",
      "[CV] END regressor__max_depth=10, regressor__min_samples_leaf=2, regressor__min_samples_split=10, regressor__n_estimators=50; total time=  35.9s\n",
      "[CV] END regressor__max_depth=10, regressor__min_samples_leaf=2, regressor__min_samples_split=5, regressor__n_estimators=200; total time= 2.5min\n",
      "[CV] END regressor__max_depth=10, regressor__min_samples_leaf=2, regressor__min_samples_split=10, regressor__n_estimators=50; total time=  35.7s\n",
      "[CV] END regressor__max_depth=10, regressor__min_samples_leaf=2, regressor__min_samples_split=10, regressor__n_estimators=50; total time=  36.6s\n",
      "[CV] END regressor__max_depth=10, regressor__min_samples_leaf=2, regressor__min_samples_split=5, regressor__n_estimators=200; total time= 2.6min\n",
      "[CV] END regressor__max_depth=10, regressor__min_samples_leaf=2, regressor__min_samples_split=5, regressor__n_estimators=200; total time= 2.4min\n",
      "[CV] END regressor__max_depth=10, regressor__min_samples_leaf=4, regressor__min_samples_split=2, regressor__n_estimators=50; total time=  36.7s\n",
      "[CV] END regressor__max_depth=10, regressor__min_samples_leaf=2, regressor__min_samples_split=5, regressor__n_estimators=200; total time= 2.4min\n",
      "[CV] END regressor__max_depth=10, regressor__min_samples_leaf=2, regressor__min_samples_split=5, regressor__n_estimators=200; total time= 2.5min\n",
      "[CV] END regressor__max_depth=10, regressor__min_samples_leaf=4, regressor__min_samples_split=2, regressor__n_estimators=50; total time=  35.9s\n",
      "[CV] END regressor__max_depth=10, regressor__min_samples_leaf=4, regressor__min_samples_split=2, regressor__n_estimators=50; total time=  36.0s\n",
      "[CV] END regressor__max_depth=10, regressor__min_samples_leaf=2, regressor__min_samples_split=10, regressor__n_estimators=200; total time= 2.4min\n",
      "[CV] END regressor__max_depth=10, regressor__min_samples_leaf=4, regressor__min_samples_split=2, regressor__n_estimators=50; total time=  35.6s\n",
      "[CV] END regressor__max_depth=10, regressor__min_samples_leaf=2, regressor__min_samples_split=10, regressor__n_estimators=200; total time= 2.2min\n",
      "[CV] END regressor__max_depth=10, regressor__min_samples_leaf=4, regressor__min_samples_split=2, regressor__n_estimators=50; total time=  34.2s\n",
      "[CV] END regressor__max_depth=10, regressor__min_samples_leaf=2, regressor__min_samples_split=10, regressor__n_estimators=200; total time= 2.3min\n",
      "[CV] END regressor__max_depth=10, regressor__min_samples_leaf=2, regressor__min_samples_split=10, regressor__n_estimators=200; total time= 2.3min\n",
      "[CV] END regressor__max_depth=10, regressor__min_samples_leaf=2, regressor__min_samples_split=10, regressor__n_estimators=200; total time= 2.2min\n",
      "[CV] END regressor__max_depth=10, regressor__min_samples_leaf=4, regressor__min_samples_split=5, regressor__n_estimators=50; total time=  31.3s\n",
      "[CV] END regressor__max_depth=10, regressor__min_samples_leaf=4, regressor__min_samples_split=5, regressor__n_estimators=50; total time=  33.9s\n",
      "[CV] END regressor__max_depth=10, regressor__min_samples_leaf=4, regressor__min_samples_split=5, regressor__n_estimators=50; total time=  33.9s\n",
      "[CV] END regressor__max_depth=10, regressor__min_samples_leaf=4, regressor__min_samples_split=5, regressor__n_estimators=50; total time=  35.0s\n",
      "[CV] END regressor__max_depth=10, regressor__min_samples_leaf=4, regressor__min_samples_split=5, regressor__n_estimators=50; total time=  34.4s\n",
      "[CV] END regressor__max_depth=10, regressor__min_samples_leaf=4, regressor__min_samples_split=2, regressor__n_estimators=200; total time= 2.3min\n",
      "[CV] END regressor__max_depth=10, regressor__min_samples_leaf=4, regressor__min_samples_split=2, regressor__n_estimators=200; total time= 2.2min\n",
      "[CV] END regressor__max_depth=10, regressor__min_samples_leaf=4, regressor__min_samples_split=2, regressor__n_estimators=200; total time= 2.2min\n",
      "[CV] END regressor__max_depth=10, regressor__min_samples_leaf=4, regressor__min_samples_split=2, regressor__n_estimators=200; total time= 2.2min\n",
      "[CV] END regressor__max_depth=10, regressor__min_samples_leaf=4, regressor__min_samples_split=2, regressor__n_estimators=200; total time= 2.2min\n",
      "[CV] END regressor__max_depth=10, regressor__min_samples_leaf=4, regressor__min_samples_split=10, regressor__n_estimators=50; total time=  32.1s\n",
      "[CV] END regressor__max_depth=10, regressor__min_samples_leaf=4, regressor__min_samples_split=10, regressor__n_estimators=50; total time=  31.3s\n",
      "[CV] END regressor__max_depth=10, regressor__min_samples_leaf=4, regressor__min_samples_split=10, regressor__n_estimators=50; total time=  32.3s\n",
      "[CV] END regressor__max_depth=10, regressor__min_samples_leaf=4, regressor__min_samples_split=10, regressor__n_estimators=50; total time=  32.4s\n",
      "[CV] END regressor__max_depth=10, regressor__min_samples_leaf=4, regressor__min_samples_split=5, regressor__n_estimators=200; total time= 2.3min\n",
      "[CV] END regressor__max_depth=10, regressor__min_samples_leaf=4, regressor__min_samples_split=10, regressor__n_estimators=50; total time=  34.6s\n",
      "[CV] END regressor__max_depth=10, regressor__min_samples_leaf=4, regressor__min_samples_split=5, regressor__n_estimators=200; total time= 2.2min\n",
      "[CV] END regressor__max_depth=10, regressor__min_samples_leaf=4, regressor__min_samples_split=5, regressor__n_estimators=200; total time= 2.2min\n",
      "[CV] END regressor__max_depth=10, regressor__min_samples_leaf=4, regressor__min_samples_split=5, regressor__n_estimators=200; total time= 2.1min\n",
      "[CV] END regressor__max_depth=10, regressor__min_samples_leaf=4, regressor__min_samples_split=5, regressor__n_estimators=200; total time= 2.2min\n",
      "[CV] END regressor__max_depth=10, regressor__min_samples_leaf=4, regressor__min_samples_split=10, regressor__n_estimators=200; total time= 1.9min\n",
      "[CV] END regressor__max_depth=10, regressor__min_samples_leaf=4, regressor__min_samples_split=10, regressor__n_estimators=200; total time= 1.8min\n",
      "[CV] END regressor__max_depth=10, regressor__min_samples_leaf=4, regressor__min_samples_split=10, regressor__n_estimators=200; total time= 1.7min\n",
      "[CV] END regressor__max_depth=10, regressor__min_samples_leaf=4, regressor__min_samples_split=10, regressor__n_estimators=200; total time= 1.8min\n",
      "[CV] END regressor__max_depth=10, regressor__min_samples_leaf=4, regressor__min_samples_split=10, regressor__n_estimators=200; total time= 1.6min\n",
      "Best parameters: {'regressor__max_depth': 10, 'regressor__min_samples_leaf': 2, 'regressor__min_samples_split': 10, 'regressor__n_estimators': 200}\n",
      "Training R2 score: 0.6526464108891502\n",
      "Test R2 score: 0.6022031332511567\n"
     ]
    }
   ],
   "source": [
    "# rf_model = RandomForestRegressor(random_state=42, max_features='sqrt')\n",
    "# объединение пайплайна для обработки признаков с моделью случайного леса\n",
    "rf_model = Pipeline(steps=[('preprocessor', preprocessor),\n",
    "                        ('regressor', RandomForestRegressor(random_state=42))])\n",
    "\n",
    "\n",
    "# создание сетки параметров для перебора их в поиске наилучшей модели\n",
    "# param_grid = {\n",
    "#     'regressor__n_estimators': [50, 200],\n",
    "#     'regressor__max_depth': [1, 5, 10],\n",
    "#     'regressor__min_samples_split': [2, 5, 10],\n",
    "#     'regressor__min_samples_leaf': [2, 4]\n",
    "# }\n",
    "# Best parameters: {'regressor__max_depth': 10, 'regressor__min_samples_leaf': 2, 'regressor__min_samples_split': 10, 'regressor__n_estimators': 200}\n",
    "# Training R2 score: 0.6526464108891502\n",
    "# Test R2 score: 0.6022031332511567\n",
    "\n",
    "param_grid = {\n",
    "    'regressor__n_estimators': [300, 400],\n",
    "    'regressor__max_depth': [5, 10],\n",
    "    'regressor__min_samples_split': [10, 15],\n",
    "    'regressor__min_samples_leaf': [2]\n",
    "}\n",
    "\n",
    "# настройка гиперпараметров модели с помощью GridSearchCV\n",
    "rf_model_grid = GridSearchCV(rf_model, param_grid, cv=3, n_jobs=-1, verbose=2)\n",
    "rf_model_grid.fit(X_train, y_train)\n",
    "\n",
    "# оценка качества модели на тестовой выборке\n",
    "print(\"Best parameters:\", rf_model_grid.best_params_)\n",
    "print(\"Training R2 score:\", rf_model_grid.score(X_train, y_train))"
   ]
  },
  {
   "attachments": {},
   "cell_type": "markdown",
   "metadata": {},
   "source": [
    "### Обучение GradientBoostingRegressor"
   ]
  },
  {
   "cell_type": "code",
   "execution_count": 121,
   "metadata": {},
   "outputs": [
    {
     "name": "stdout",
     "output_type": "stream",
     "text": [
      "Fitting 3 folds for each of 2 candidates, totalling 6 fits\n",
      "[CV 1/3] END regressor__learning_rate=0.1, regressor__max_depth=10, regressor__n_estimators=250;, score=0.797 total time= 2.3min\n",
      "[CV 2/3] END regressor__learning_rate=0.1, regressor__max_depth=10, regressor__n_estimators=250;, score=0.809 total time= 2.6min\n",
      "[CV 3/3] END regressor__learning_rate=0.1, regressor__max_depth=10, regressor__n_estimators=250;, score=0.751 total time= 2.6min\n",
      "[CV 1/3] END regressor__learning_rate=0.1, regressor__max_depth=10, regressor__n_estimators=400;, score=0.817 total time= 3.1min\n",
      "[CV 3/3] END regressor__learning_rate=0.1, regressor__max_depth=10, regressor__n_estimators=400;, score=0.776 total time= 3.2min\n",
      "[CV 2/3] END regressor__learning_rate=0.1, regressor__max_depth=10, regressor__n_estimators=400;, score=0.832 total time= 3.2min\n",
      "Best parameters: {'regressor__learning_rate': 0.1, 'regressor__max_depth': 10, 'regressor__n_estimators': 400}\n",
      "Training R2 score: 0.9255214138108229\n"
     ]
    }
   ],
   "source": [
    "# объединение пайплайна для обработки признаков с моделью градиентного бустинга\n",
    "gb_model = Pipeline(steps=[('preprocessor', preprocessor),\n",
    "                           ('regressor', GradientBoostingRegressor(random_state=42))])\n",
    "\n",
    "# создание сетки параметров для перебора их в поиске наилучшей модели\n",
    "# param_grid = {\n",
    "#     'regressor__n_estimators': [100, 250],\n",
    "#     'regressor__max_depth': [3, 5, 10],\n",
    "#     'regressor__learning_rate': [0.1, 0.01]\n",
    "# }\n",
    "\n",
    "# Best parameters: {'regressor__learning_rate': 0.1, 'regressor__max_depth': 10, 'regressor__n_estimators': 250}\n",
    "# Training R2 score: 0.8917769125359671\n",
    "# Test R2 score: 0.8062182587934098\n",
    "\n",
    "param_grid = {\n",
    "    'regressor__n_estimators': [250, 400],\n",
    "    'regressor__max_depth': [10],\n",
    "    'regressor__learning_rate': [0.1]\n",
    "}\n",
    "# Best parameters: {'regressor__learning_rate': 0.1, 'regressor__max_depth': 10, 'regressor__n_estimators': 400}\n",
    "# Training R2 score: 0.9255214138108229\n",
    "\n",
    "# настройка гиперпараметров модели с помощью GridSearchCV\n",
    "gb_model_grid = GridSearchCV(gb_model, param_grid, cv=3, n_jobs=-1, verbose=4)\n",
    "gb_model_grid.fit(X_train, y_train)\n",
    "\n",
    "# оценка качества модели на тестовой выборке\n",
    "print(\"Best parameters:\", gb_model_grid.best_params_)\n",
    "print(\"Training R2 score:\", gb_model_grid.score(X_train, y_train))\n"
   ]
  },
  {
   "attachments": {},
   "cell_type": "markdown",
   "metadata": {},
   "source": [
    "### Обучение CatBoostRegressor"
   ]
  },
  {
   "cell_type": "code",
   "execution_count": 165,
   "metadata": {},
   "outputs": [
    {
     "name": "stdout",
     "output_type": "stream",
     "text": [
      "Fitting 3 folds for each of 3 candidates, totalling 9 fits\n",
      "[CV 2/3] END regressor__depth=10, regressor__iterations=400, regressor__learning_rate=0.1;, score=0.819 total time= 1.4min\n",
      "[CV 3/3] END regressor__depth=10, regressor__iterations=400, regressor__learning_rate=0.1;, score=0.765 total time= 1.4min\n",
      "[CV 1/3] END regressor__depth=10, regressor__iterations=400, regressor__learning_rate=0.1;, score=0.813 total time= 1.6min\n",
      "[CV 1/3] END regressor__depth=10, regressor__iterations=600, regressor__learning_rate=0.1;, score=0.835 total time= 2.0min\n",
      "[CV 3/3] END regressor__depth=10, regressor__iterations=600, regressor__learning_rate=0.1;, score=0.788 total time= 2.0min\n",
      "[CV 2/3] END regressor__depth=10, regressor__iterations=600, regressor__learning_rate=0.1;, score=0.841 total time= 2.0min\n",
      "[CV 1/3] END regressor__depth=10, regressor__iterations=1000, regressor__learning_rate=0.1;, score=0.853 total time= 2.4min\n",
      "[CV 2/3] END regressor__depth=10, regressor__iterations=1000, regressor__learning_rate=0.1;, score=0.859 total time= 2.4min\n",
      "[CV 3/3] END regressor__depth=10, regressor__iterations=1000, regressor__learning_rate=0.1;, score=0.808 total time= 1.2min\n",
      "Best parameters: {'regressor__depth': 10, 'regressor__iterations': 1000, 'regressor__learning_rate': 0.1}\n",
      "Training R2 score: 0.9010933031862454\n"
     ]
    }
   ],
   "source": [
    "# объединение пайплайна для обработки признаков с моделью градиентного бустинга CatBoost\n",
    "catboost_model = Pipeline(steps=[('preprocessor', preprocessor),\n",
    "                                 ('regressor', CatBoostRegressor(random_seed=42, verbose=0))])\n",
    "\n",
    "# создание сетки параметров для перебора их в поиске наилучшей модели\n",
    "# param_grid = {'regressor__learning_rate': [0.03, 0.1],\n",
    "#               'regressor__depth': [4, 10],\n",
    "#               'regressor__iterations': [250, 400]}\n",
    "\n",
    "# Best parameters: {'regressor__depth': 10, 'regressor__iterations': 400, 'regressor__learning_rate': 0.1}\n",
    "# Training R2 score: 0.8427896212358248\n",
    "\n",
    "# param_grid = {'regressor__learning_rate': [0.1],\n",
    "#               'regressor__depth': [10],\n",
    "#               'regressor__iterations': [400, 600, 1000]}\n",
    "\n",
    "# Best parameters: {'regressor__depth': 10, 'regressor__iterations': 1000, 'regressor__learning_rate': 0.1}\n",
    "# Training R2 score: 0.9010933031862454\n",
    "\n",
    "param_grid = {'regressor__learning_rate': [0.1],\n",
    "              'regressor__depth': [10, 12, 15],\n",
    "              'regressor__iterations': [1000]}\n",
    "# настройка гиперпараметров модели с помощью GridSearchCV\n",
    "catboost_model_grid = GridSearchCV(catboost_model, param_grid, cv=3, n_jobs=-1, verbose=4)\n",
    "catboost_model_grid.fit(X_train, y_train)\n",
    "\n",
    "# оценка качества модели на тестовой выборке\n",
    "print(\"Best parameters:\", catboost_model_grid.best_params_)\n",
    "print(\"Training R2 score:\", catboost_model_grid.score(X_train, y_train))"
   ]
  },
  {
   "attachments": {},
   "cell_type": "markdown",
   "metadata": {},
   "source": [
    "### LinearRegressor"
   ]
  },
  {
   "cell_type": "code",
   "execution_count": 92,
   "metadata": {},
   "outputs": [
    {
     "name": "stdout",
     "output_type": "stream",
     "text": [
      "Training R2 score: 0.8021908349244739\n"
     ]
    }
   ],
   "source": [
    "# объединение пайплайна для обработки признаков с моделью линейной регрессии\n",
    "linear_model = Pipeline(steps=[('preprocessor', preprocessor),\n",
    "                               ('regressor', LinearRegression())])\n",
    "\n",
    "# обучение модели\n",
    "linear_model.fit(X_train, y_train)\n",
    "\n",
    "# оценка качества модели на тестовой выборке\n",
    "print(\"Training R2 score:\", linear_model.score(X_train, y_train))\n",
    "# print(\"Test R2 score:\", linear_model.score(X_test, y_test))"
   ]
  },
  {
   "cell_type": "code",
   "execution_count": 108,
   "metadata": {},
   "outputs": [],
   "source": [
    "gbr_linear_model = GradientBoostingRegressor(\n",
    "    n_estimators=250,\n",
    "    learning_rate=0.1,\n",
    "    max_depth=10,\n",
    "    init=linear_model\n",
    ")"
   ]
  },
  {
   "attachments": {},
   "cell_type": "markdown",
   "metadata": {},
   "source": [
    "## Предсказания"
   ]
  },
  {
   "cell_type": "code",
   "execution_count": 148,
   "metadata": {},
   "outputs": [],
   "source": [
    "train_df = pd.read_csv('data/Train.csv')\n",
    "test_df = pd.read_csv('data/Test.csv')\n",
    "\n",
    "# преобразование поля \"дата\"\n",
    "train_df['year'] = train_df['date'].apply(lambda x: int(x.split('-')[0]))\n",
    "train_df['month'] = train_df['date'].apply(lambda x: int(x.split('-')[1]))\n",
    "train_df.drop('date', axis=1, inplace=True)\n",
    "\n",
    "test_df['year'] = test_df['date'].apply(lambda x: int(x.split('-')[0]))\n",
    "test_df['month'] = test_df['date'].apply(lambda x: int(x.split('-')[1]))\n",
    "test_df.drop('date', axis=1, inplace=True)\n",
    "\n",
    "# удаление столбца \"id\"\n",
    "train_df.drop('id', axis=1, inplace=True)\n",
    "\n",
    "# разделение данных на признаки и целевую переменную\n",
    "X_train = train_df.drop('price', axis=1)\n",
    "y_train = train_df['price']\n",
    "X_test = test_df.drop('id', axis=1)"
   ]
  },
  {
   "cell_type": "code",
   "execution_count": 189,
   "metadata": {},
   "outputs": [],
   "source": [
    "def gen_submit(model, FILE=False, FIT=False):\n",
    "    if (FIT):\n",
    "        model.fit(X_train, y_train)\n",
    "    # формирование предсказаний на тестовой выборке\n",
    "    predictions = model.predict(X_test)\n",
    "\n",
    "    if (FILE):\n",
    "        # сохранение предсказаний в файл\n",
    "        submission = pd.DataFrame({'id': test_df['id'], 'price': predictions})\n",
    "        submission.to_csv('submission_test.csv', index=False)\n",
    "\n",
    "    # оценка качества модели на обучающей выборке с помощью метрики MAE\n",
    "    y_train_pred = model.predict(X_train)\n",
    "    mae = mean_absolute_error(y_train, y_train_pred)\n",
    "    print('Train MAE:', mae)"
   ]
  },
  {
   "cell_type": "code",
   "execution_count": 160,
   "metadata": {},
   "outputs": [
    {
     "data": {
      "text/html": [
       "<style>#sk-container-id-5 {color: black;background-color: white;}#sk-container-id-5 pre{padding: 0;}#sk-container-id-5 div.sk-toggleable {background-color: white;}#sk-container-id-5 label.sk-toggleable__label {cursor: pointer;display: block;width: 100%;margin-bottom: 0;padding: 0.3em;box-sizing: border-box;text-align: center;}#sk-container-id-5 label.sk-toggleable__label-arrow:before {content: \"▸\";float: left;margin-right: 0.25em;color: #696969;}#sk-container-id-5 label.sk-toggleable__label-arrow:hover:before {color: black;}#sk-container-id-5 div.sk-estimator:hover label.sk-toggleable__label-arrow:before {color: black;}#sk-container-id-5 div.sk-toggleable__content {max-height: 0;max-width: 0;overflow: hidden;text-align: left;background-color: #f0f8ff;}#sk-container-id-5 div.sk-toggleable__content pre {margin: 0.2em;color: black;border-radius: 0.25em;background-color: #f0f8ff;}#sk-container-id-5 input.sk-toggleable__control:checked~div.sk-toggleable__content {max-height: 200px;max-width: 100%;overflow: auto;}#sk-container-id-5 input.sk-toggleable__control:checked~label.sk-toggleable__label-arrow:before {content: \"▾\";}#sk-container-id-5 div.sk-estimator input.sk-toggleable__control:checked~label.sk-toggleable__label {background-color: #d4ebff;}#sk-container-id-5 div.sk-label input.sk-toggleable__control:checked~label.sk-toggleable__label {background-color: #d4ebff;}#sk-container-id-5 input.sk-hidden--visually {border: 0;clip: rect(1px 1px 1px 1px);clip: rect(1px, 1px, 1px, 1px);height: 1px;margin: -1px;overflow: hidden;padding: 0;position: absolute;width: 1px;}#sk-container-id-5 div.sk-estimator {font-family: monospace;background-color: #f0f8ff;border: 1px dotted black;border-radius: 0.25em;box-sizing: border-box;margin-bottom: 0.5em;}#sk-container-id-5 div.sk-estimator:hover {background-color: #d4ebff;}#sk-container-id-5 div.sk-parallel-item::after {content: \"\";width: 100%;border-bottom: 1px solid gray;flex-grow: 1;}#sk-container-id-5 div.sk-label:hover label.sk-toggleable__label {background-color: #d4ebff;}#sk-container-id-5 div.sk-serial::before {content: \"\";position: absolute;border-left: 1px solid gray;box-sizing: border-box;top: 0;bottom: 0;left: 50%;z-index: 0;}#sk-container-id-5 div.sk-serial {display: flex;flex-direction: column;align-items: center;background-color: white;padding-right: 0.2em;padding-left: 0.2em;position: relative;}#sk-container-id-5 div.sk-item {position: relative;z-index: 1;}#sk-container-id-5 div.sk-parallel {display: flex;align-items: stretch;justify-content: center;background-color: white;position: relative;}#sk-container-id-5 div.sk-item::before, #sk-container-id-5 div.sk-parallel-item::before {content: \"\";position: absolute;border-left: 1px solid gray;box-sizing: border-box;top: 0;bottom: 0;left: 50%;z-index: -1;}#sk-container-id-5 div.sk-parallel-item {display: flex;flex-direction: column;z-index: 1;position: relative;background-color: white;}#sk-container-id-5 div.sk-parallel-item:first-child::after {align-self: flex-end;width: 50%;}#sk-container-id-5 div.sk-parallel-item:last-child::after {align-self: flex-start;width: 50%;}#sk-container-id-5 div.sk-parallel-item:only-child::after {width: 0;}#sk-container-id-5 div.sk-dashed-wrapped {border: 1px dashed gray;margin: 0 0.4em 0.5em 0.4em;box-sizing: border-box;padding-bottom: 0.4em;background-color: white;}#sk-container-id-5 div.sk-label label {font-family: monospace;font-weight: bold;display: inline-block;line-height: 1.2em;}#sk-container-id-5 div.sk-label-container {text-align: center;}#sk-container-id-5 div.sk-container {/* jupyter's `normalize.less` sets `[hidden] { display: none; }` but bootstrap.min.css set `[hidden] { display: none !important; }` so we also need the `!important` here to be able to override the default hidden behavior on the sphinx rendered scikit-learn.org. See: https://github.com/scikit-learn/scikit-learn/issues/21755 */display: inline-block !important;position: relative;}#sk-container-id-5 div.sk-text-repr-fallback {display: none;}</style><div id=\"sk-container-id-5\" class=\"sk-top-container\"><div class=\"sk-text-repr-fallback\"><pre>Pipeline(steps=[(&#x27;preprocessor&#x27;,\n",
       "                 ColumnTransformer(transformers=[(&#x27;num&#x27;,\n",
       "                                                  Pipeline(steps=[(&#x27;imputer&#x27;,\n",
       "                                                                   SimpleImputer(strategy=&#x27;median&#x27;)),\n",
       "                                                                  (&#x27;scaler&#x27;,\n",
       "                                                                   StandardScaler())]),\n",
       "                                                  [&#x27;floor&#x27;, &#x27;area&#x27;,\n",
       "                                                   &#x27;metro_dist&#x27;, &#x27;n_photos&#x27;,\n",
       "                                                   &#x27;year&#x27;]),\n",
       "                                                 (&#x27;cat&#x27;,\n",
       "                                                  Pipeline(steps=[(&#x27;imputer&#x27;,\n",
       "                                                                   SimpleImputer(strategy=&#x27;most_frequent&#x27;)),\n",
       "                                                                  (&#x27;onehot&#x27;,\n",
       "                                                                   OneHotEncoder(handle_unknown=&#x27;ignore&#x27;))]),\n",
       "                                                  [&#x27;street_id&#x27;, &#x27;build_tech&#x27;,\n",
       "                                                   &#x27;rooms&#x27;, &#x27;balcon&#x27;, &#x27;g_lift&#x27;,\n",
       "                                                   &#x27;month&#x27;, &#x27;kw1&#x27;, &#x27;kw2&#x27;, &#x27;kw3&#x27;,\n",
       "                                                   &#x27;kw4&#x27;, &#x27;kw5&#x27;, &#x27;kw6&#x27;, &#x27;kw7&#x27;,\n",
       "                                                   &#x27;kw8&#x27;, &#x27;kw9&#x27;, &#x27;kw10&#x27;, &#x27;kw11&#x27;,\n",
       "                                                   &#x27;kw12&#x27;, &#x27;kw13&#x27;])])),\n",
       "                (&#x27;regressor&#x27;,\n",
       "                 RandomForestRegressor(max_depth=10, min_samples_leaf=2,\n",
       "                                       min_samples_split=10, n_estimators=500,\n",
       "                                       random_state=42))])</pre><b>In a Jupyter environment, please rerun this cell to show the HTML representation or trust the notebook. <br />On GitHub, the HTML representation is unable to render, please try loading this page with nbviewer.org.</b></div><div class=\"sk-container\" hidden><div class=\"sk-item sk-dashed-wrapped\"><div class=\"sk-label-container\"><div class=\"sk-label sk-toggleable\"><input class=\"sk-toggleable__control sk-hidden--visually\" id=\"sk-estimator-id-35\" type=\"checkbox\" ><label for=\"sk-estimator-id-35\" class=\"sk-toggleable__label sk-toggleable__label-arrow\">Pipeline</label><div class=\"sk-toggleable__content\"><pre>Pipeline(steps=[(&#x27;preprocessor&#x27;,\n",
       "                 ColumnTransformer(transformers=[(&#x27;num&#x27;,\n",
       "                                                  Pipeline(steps=[(&#x27;imputer&#x27;,\n",
       "                                                                   SimpleImputer(strategy=&#x27;median&#x27;)),\n",
       "                                                                  (&#x27;scaler&#x27;,\n",
       "                                                                   StandardScaler())]),\n",
       "                                                  [&#x27;floor&#x27;, &#x27;area&#x27;,\n",
       "                                                   &#x27;metro_dist&#x27;, &#x27;n_photos&#x27;,\n",
       "                                                   &#x27;year&#x27;]),\n",
       "                                                 (&#x27;cat&#x27;,\n",
       "                                                  Pipeline(steps=[(&#x27;imputer&#x27;,\n",
       "                                                                   SimpleImputer(strategy=&#x27;most_frequent&#x27;)),\n",
       "                                                                  (&#x27;onehot&#x27;,\n",
       "                                                                   OneHotEncoder(handle_unknown=&#x27;ignore&#x27;))]),\n",
       "                                                  [&#x27;street_id&#x27;, &#x27;build_tech&#x27;,\n",
       "                                                   &#x27;rooms&#x27;, &#x27;balcon&#x27;, &#x27;g_lift&#x27;,\n",
       "                                                   &#x27;month&#x27;, &#x27;kw1&#x27;, &#x27;kw2&#x27;, &#x27;kw3&#x27;,\n",
       "                                                   &#x27;kw4&#x27;, &#x27;kw5&#x27;, &#x27;kw6&#x27;, &#x27;kw7&#x27;,\n",
       "                                                   &#x27;kw8&#x27;, &#x27;kw9&#x27;, &#x27;kw10&#x27;, &#x27;kw11&#x27;,\n",
       "                                                   &#x27;kw12&#x27;, &#x27;kw13&#x27;])])),\n",
       "                (&#x27;regressor&#x27;,\n",
       "                 RandomForestRegressor(max_depth=10, min_samples_leaf=2,\n",
       "                                       min_samples_split=10, n_estimators=500,\n",
       "                                       random_state=42))])</pre></div></div></div><div class=\"sk-serial\"><div class=\"sk-item sk-dashed-wrapped\"><div class=\"sk-label-container\"><div class=\"sk-label sk-toggleable\"><input class=\"sk-toggleable__control sk-hidden--visually\" id=\"sk-estimator-id-36\" type=\"checkbox\" ><label for=\"sk-estimator-id-36\" class=\"sk-toggleable__label sk-toggleable__label-arrow\">preprocessor: ColumnTransformer</label><div class=\"sk-toggleable__content\"><pre>ColumnTransformer(transformers=[(&#x27;num&#x27;,\n",
       "                                 Pipeline(steps=[(&#x27;imputer&#x27;,\n",
       "                                                  SimpleImputer(strategy=&#x27;median&#x27;)),\n",
       "                                                 (&#x27;scaler&#x27;, StandardScaler())]),\n",
       "                                 [&#x27;floor&#x27;, &#x27;area&#x27;, &#x27;metro_dist&#x27;, &#x27;n_photos&#x27;,\n",
       "                                  &#x27;year&#x27;]),\n",
       "                                (&#x27;cat&#x27;,\n",
       "                                 Pipeline(steps=[(&#x27;imputer&#x27;,\n",
       "                                                  SimpleImputer(strategy=&#x27;most_frequent&#x27;)),\n",
       "                                                 (&#x27;onehot&#x27;,\n",
       "                                                  OneHotEncoder(handle_unknown=&#x27;ignore&#x27;))]),\n",
       "                                 [&#x27;street_id&#x27;, &#x27;build_tech&#x27;, &#x27;rooms&#x27;, &#x27;balcon&#x27;,\n",
       "                                  &#x27;g_lift&#x27;, &#x27;month&#x27;, &#x27;kw1&#x27;, &#x27;kw2&#x27;, &#x27;kw3&#x27;, &#x27;kw4&#x27;,\n",
       "                                  &#x27;kw5&#x27;, &#x27;kw6&#x27;, &#x27;kw7&#x27;, &#x27;kw8&#x27;, &#x27;kw9&#x27;, &#x27;kw10&#x27;,\n",
       "                                  &#x27;kw11&#x27;, &#x27;kw12&#x27;, &#x27;kw13&#x27;])])</pre></div></div></div><div class=\"sk-parallel\"><div class=\"sk-parallel-item\"><div class=\"sk-item\"><div class=\"sk-label-container\"><div class=\"sk-label sk-toggleable\"><input class=\"sk-toggleable__control sk-hidden--visually\" id=\"sk-estimator-id-37\" type=\"checkbox\" ><label for=\"sk-estimator-id-37\" class=\"sk-toggleable__label sk-toggleable__label-arrow\">num</label><div class=\"sk-toggleable__content\"><pre>[&#x27;floor&#x27;, &#x27;area&#x27;, &#x27;metro_dist&#x27;, &#x27;n_photos&#x27;, &#x27;year&#x27;]</pre></div></div></div><div class=\"sk-serial\"><div class=\"sk-item\"><div class=\"sk-serial\"><div class=\"sk-item\"><div class=\"sk-estimator sk-toggleable\"><input class=\"sk-toggleable__control sk-hidden--visually\" id=\"sk-estimator-id-38\" type=\"checkbox\" ><label for=\"sk-estimator-id-38\" class=\"sk-toggleable__label sk-toggleable__label-arrow\">SimpleImputer</label><div class=\"sk-toggleable__content\"><pre>SimpleImputer(strategy=&#x27;median&#x27;)</pre></div></div></div><div class=\"sk-item\"><div class=\"sk-estimator sk-toggleable\"><input class=\"sk-toggleable__control sk-hidden--visually\" id=\"sk-estimator-id-39\" type=\"checkbox\" ><label for=\"sk-estimator-id-39\" class=\"sk-toggleable__label sk-toggleable__label-arrow\">StandardScaler</label><div class=\"sk-toggleable__content\"><pre>StandardScaler()</pre></div></div></div></div></div></div></div></div><div class=\"sk-parallel-item\"><div class=\"sk-item\"><div class=\"sk-label-container\"><div class=\"sk-label sk-toggleable\"><input class=\"sk-toggleable__control sk-hidden--visually\" id=\"sk-estimator-id-40\" type=\"checkbox\" ><label for=\"sk-estimator-id-40\" class=\"sk-toggleable__label sk-toggleable__label-arrow\">cat</label><div class=\"sk-toggleable__content\"><pre>[&#x27;street_id&#x27;, &#x27;build_tech&#x27;, &#x27;rooms&#x27;, &#x27;balcon&#x27;, &#x27;g_lift&#x27;, &#x27;month&#x27;, &#x27;kw1&#x27;, &#x27;kw2&#x27;, &#x27;kw3&#x27;, &#x27;kw4&#x27;, &#x27;kw5&#x27;, &#x27;kw6&#x27;, &#x27;kw7&#x27;, &#x27;kw8&#x27;, &#x27;kw9&#x27;, &#x27;kw10&#x27;, &#x27;kw11&#x27;, &#x27;kw12&#x27;, &#x27;kw13&#x27;]</pre></div></div></div><div class=\"sk-serial\"><div class=\"sk-item\"><div class=\"sk-serial\"><div class=\"sk-item\"><div class=\"sk-estimator sk-toggleable\"><input class=\"sk-toggleable__control sk-hidden--visually\" id=\"sk-estimator-id-41\" type=\"checkbox\" ><label for=\"sk-estimator-id-41\" class=\"sk-toggleable__label sk-toggleable__label-arrow\">SimpleImputer</label><div class=\"sk-toggleable__content\"><pre>SimpleImputer(strategy=&#x27;most_frequent&#x27;)</pre></div></div></div><div class=\"sk-item\"><div class=\"sk-estimator sk-toggleable\"><input class=\"sk-toggleable__control sk-hidden--visually\" id=\"sk-estimator-id-42\" type=\"checkbox\" ><label for=\"sk-estimator-id-42\" class=\"sk-toggleable__label sk-toggleable__label-arrow\">OneHotEncoder</label><div class=\"sk-toggleable__content\"><pre>OneHotEncoder(handle_unknown=&#x27;ignore&#x27;)</pre></div></div></div></div></div></div></div></div></div></div><div class=\"sk-item\"><div class=\"sk-estimator sk-toggleable\"><input class=\"sk-toggleable__control sk-hidden--visually\" id=\"sk-estimator-id-43\" type=\"checkbox\" ><label for=\"sk-estimator-id-43\" class=\"sk-toggleable__label sk-toggleable__label-arrow\">RandomForestRegressor</label><div class=\"sk-toggleable__content\"><pre>RandomForestRegressor(max_depth=10, min_samples_leaf=2, min_samples_split=10,\n",
       "                      n_estimators=500, random_state=42)</pre></div></div></div></div></div></div></div>"
      ],
      "text/plain": [
       "Pipeline(steps=[('preprocessor',\n",
       "                 ColumnTransformer(transformers=[('num',\n",
       "                                                  Pipeline(steps=[('imputer',\n",
       "                                                                   SimpleImputer(strategy='median')),\n",
       "                                                                  ('scaler',\n",
       "                                                                   StandardScaler())]),\n",
       "                                                  ['floor', 'area',\n",
       "                                                   'metro_dist', 'n_photos',\n",
       "                                                   'year']),\n",
       "                                                 ('cat',\n",
       "                                                  Pipeline(steps=[('imputer',\n",
       "                                                                   SimpleImputer(strategy='most_frequent')),\n",
       "                                                                  ('onehot',\n",
       "                                                                   OneHotEncoder(handle_unknown='ignore'))]),\n",
       "                                                  ['street_id', 'build_tech',\n",
       "                                                   'rooms', 'balcon', 'g_lift',\n",
       "                                                   'month', 'kw1', 'kw2', 'kw3',\n",
       "                                                   'kw4', 'kw5', 'kw6', 'kw7',\n",
       "                                                   'kw8', 'kw9', 'kw10', 'kw11',\n",
       "                                                   'kw12', 'kw13'])])),\n",
       "                ('regressor',\n",
       "                 RandomForestRegressor(max_depth=10, min_samples_leaf=2,\n",
       "                                       min_samples_split=10, n_estimators=500,\n",
       "                                       random_state=42))])"
      ]
     },
     "execution_count": 160,
     "metadata": {},
     "output_type": "execute_result"
    }
   ],
   "source": [
    "final_rf_model = Pipeline(steps=[('preprocessor', preprocessor),\n",
    "                        ('regressor', RandomForestRegressor(\n",
    "                            random_state=42,\n",
    "                            max_depth=10,\n",
    "                            min_samples_leaf=2,\n",
    "                            min_samples_split=10,\n",
    "                            n_estimators=250))])\n",
    "final_rf_model.fit(X_train, y_train)\n",
    "\n",
    "# объединение пайплайна для обработки признаков с моделью градиентного бустинга\n",
    "final_gb_model = Pipeline(steps=[('preprocessor', preprocessor),\n",
    "                           ('regressor', GradientBoostingRegressor(\n",
    "                                random_state=42, \n",
    "                                learning_rate=0.1,\n",
    "                                max_depth=10,\n",
    "                                # n_estimators=1000, #Train MAE: 426651.79474762094\n",
    "                                n_estimators=5000, #Train MAE: 66043.40044810559 при этом на test дал score 1134643.76260\n",
    "                            ))]) \n",
    "final_gb_model.fit(X_train, y_train)\n",
    "\n",
    "# объединение пайплайна для обработки признаков с моделью градиентного бустинга CatBoost\n",
    "final_catboost_model = Pipeline(steps=[('preprocessor', preprocessor),\n",
    "                                 ('regressor', CatBoostRegressor(\n",
    "                                    random_seed=42, \n",
    "                                    verbose=0,\n",
    "                                    depth=10,\n",
    "                                    # iterations=1000, #Train MAE: 601373.6798611673\n",
    "                                    iterations=10000, #Train MAE: 313205.59425318876 при этом на test дал score 1056386.50597 \n",
    "                                    learning_rate=0.1))])\n",
    "final_catboost_model.fit(X_train, y_train)\n"
   ]
  },
  {
   "cell_type": "code",
   "execution_count": 177,
   "metadata": {},
   "outputs": [
    {
     "name": "stdout",
     "output_type": "stream",
     "text": [
      "Train MAE: 1732804.1989514765\n",
      "Train MAE: 795396.3089723869\n",
      "Train MAE: 759793.9377891078\n",
      "Final models:\n",
      "Train MAE: 1723098.9354048106\n",
      "Train MAE: 426651.79474762094\n",
      "Train MAE: 601373.6798611673\n",
      "Train MAE: 1018673.5445415583\n"
     ]
    }
   ],
   "source": [
    "gen_submit(rf_model_grid)\n",
    "gen_submit(gb_model_grid)\n",
    "gen_submit(catboost_model_grid)\n",
    "\n",
    "print(\"Final models:\")\n",
    "gen_submit(final_rf_model)\n",
    "gen_submit(final_gb_model, FILE=True)\n",
    "gen_submit(final_catboost_model)\n",
    "gen_submit(linear_model, FIT=True)"
   ]
  },
  {
   "cell_type": "code",
   "execution_count": 185,
   "metadata": {},
   "outputs": [
    {
     "name": "stdout",
     "output_type": "stream",
     "text": [
      "Train MAE: 1732804.1989514765\n",
      "Train MAE: 795396.3089723869\n",
      "Train MAE: 759793.9377891078\n",
      "Final models:\n",
      "Train MAE: 1723098.9354048106\n",
      "Train MAE: 66043.40044810559\n",
      "Train MAE: 313205.59425318876\n",
      "Train MAE: 1018673.5445415583\n"
     ]
    }
   ],
   "source": [
    "gen_submit(rf_model_grid)\n",
    "gen_submit(gb_model_grid)\n",
    "gen_submit(catboost_model_grid)\n",
    "\n",
    "print(\"Final models:\")\n",
    "gen_submit(final_rf_model)\n",
    "gen_submit(final_gb_model, FILE=True)\n",
    "gen_submit(final_catboost_model)\n",
    "gen_submit(linear_model, FIT=True)"
   ]
  },
  {
   "cell_type": "code",
   "execution_count": 186,
   "metadata": {},
   "outputs": [
    {
     "name": "stdout",
     "output_type": "stream",
     "text": [
      "Train MAE: 66043.40044810559\n"
     ]
    }
   ],
   "source": [
    "# Сохраняем результат лучшей модели\n",
    "gen_submit(final_gb_model, FILE=True)\n",
    "gen_submit(final_catboost_model, FILE=True) # Дала лучший результат на тесте\n"
   ]
  },
  {
   "attachments": {},
   "cell_type": "markdown",
   "metadata": {},
   "source": [
    "### Подбор параметров вручную"
   ]
  },
  {
   "cell_type": "code",
   "execution_count": 181,
   "metadata": {},
   "outputs": [
    {
     "data": {
      "text/html": [
       "<style>#sk-container-id-9 {color: black;background-color: white;}#sk-container-id-9 pre{padding: 0;}#sk-container-id-9 div.sk-toggleable {background-color: white;}#sk-container-id-9 label.sk-toggleable__label {cursor: pointer;display: block;width: 100%;margin-bottom: 0;padding: 0.3em;box-sizing: border-box;text-align: center;}#sk-container-id-9 label.sk-toggleable__label-arrow:before {content: \"▸\";float: left;margin-right: 0.25em;color: #696969;}#sk-container-id-9 label.sk-toggleable__label-arrow:hover:before {color: black;}#sk-container-id-9 div.sk-estimator:hover label.sk-toggleable__label-arrow:before {color: black;}#sk-container-id-9 div.sk-toggleable__content {max-height: 0;max-width: 0;overflow: hidden;text-align: left;background-color: #f0f8ff;}#sk-container-id-9 div.sk-toggleable__content pre {margin: 0.2em;color: black;border-radius: 0.25em;background-color: #f0f8ff;}#sk-container-id-9 input.sk-toggleable__control:checked~div.sk-toggleable__content {max-height: 200px;max-width: 100%;overflow: auto;}#sk-container-id-9 input.sk-toggleable__control:checked~label.sk-toggleable__label-arrow:before {content: \"▾\";}#sk-container-id-9 div.sk-estimator input.sk-toggleable__control:checked~label.sk-toggleable__label {background-color: #d4ebff;}#sk-container-id-9 div.sk-label input.sk-toggleable__control:checked~label.sk-toggleable__label {background-color: #d4ebff;}#sk-container-id-9 input.sk-hidden--visually {border: 0;clip: rect(1px 1px 1px 1px);clip: rect(1px, 1px, 1px, 1px);height: 1px;margin: -1px;overflow: hidden;padding: 0;position: absolute;width: 1px;}#sk-container-id-9 div.sk-estimator {font-family: monospace;background-color: #f0f8ff;border: 1px dotted black;border-radius: 0.25em;box-sizing: border-box;margin-bottom: 0.5em;}#sk-container-id-9 div.sk-estimator:hover {background-color: #d4ebff;}#sk-container-id-9 div.sk-parallel-item::after {content: \"\";width: 100%;border-bottom: 1px solid gray;flex-grow: 1;}#sk-container-id-9 div.sk-label:hover label.sk-toggleable__label {background-color: #d4ebff;}#sk-container-id-9 div.sk-serial::before {content: \"\";position: absolute;border-left: 1px solid gray;box-sizing: border-box;top: 0;bottom: 0;left: 50%;z-index: 0;}#sk-container-id-9 div.sk-serial {display: flex;flex-direction: column;align-items: center;background-color: white;padding-right: 0.2em;padding-left: 0.2em;position: relative;}#sk-container-id-9 div.sk-item {position: relative;z-index: 1;}#sk-container-id-9 div.sk-parallel {display: flex;align-items: stretch;justify-content: center;background-color: white;position: relative;}#sk-container-id-9 div.sk-item::before, #sk-container-id-9 div.sk-parallel-item::before {content: \"\";position: absolute;border-left: 1px solid gray;box-sizing: border-box;top: 0;bottom: 0;left: 50%;z-index: -1;}#sk-container-id-9 div.sk-parallel-item {display: flex;flex-direction: column;z-index: 1;position: relative;background-color: white;}#sk-container-id-9 div.sk-parallel-item:first-child::after {align-self: flex-end;width: 50%;}#sk-container-id-9 div.sk-parallel-item:last-child::after {align-self: flex-start;width: 50%;}#sk-container-id-9 div.sk-parallel-item:only-child::after {width: 0;}#sk-container-id-9 div.sk-dashed-wrapped {border: 1px dashed gray;margin: 0 0.4em 0.5em 0.4em;box-sizing: border-box;padding-bottom: 0.4em;background-color: white;}#sk-container-id-9 div.sk-label label {font-family: monospace;font-weight: bold;display: inline-block;line-height: 1.2em;}#sk-container-id-9 div.sk-label-container {text-align: center;}#sk-container-id-9 div.sk-container {/* jupyter's `normalize.less` sets `[hidden] { display: none; }` but bootstrap.min.css set `[hidden] { display: none !important; }` so we also need the `!important` here to be able to override the default hidden behavior on the sphinx rendered scikit-learn.org. See: https://github.com/scikit-learn/scikit-learn/issues/21755 */display: inline-block !important;position: relative;}#sk-container-id-9 div.sk-text-repr-fallback {display: none;}</style><div id=\"sk-container-id-9\" class=\"sk-top-container\"><div class=\"sk-text-repr-fallback\"><pre>Pipeline(steps=[(&#x27;preprocessor&#x27;,\n",
       "                 ColumnTransformer(transformers=[(&#x27;num&#x27;,\n",
       "                                                  Pipeline(steps=[(&#x27;imputer&#x27;,\n",
       "                                                                   SimpleImputer(strategy=&#x27;median&#x27;)),\n",
       "                                                                  (&#x27;scaler&#x27;,\n",
       "                                                                   StandardScaler())]),\n",
       "                                                  [&#x27;floor&#x27;, &#x27;area&#x27;,\n",
       "                                                   &#x27;metro_dist&#x27;, &#x27;n_photos&#x27;,\n",
       "                                                   &#x27;year&#x27;]),\n",
       "                                                 (&#x27;cat&#x27;,\n",
       "                                                  Pipeline(steps=[(&#x27;imputer&#x27;,\n",
       "                                                                   SimpleImputer(strategy=&#x27;most_frequent&#x27;)),\n",
       "                                                                  (&#x27;onehot&#x27;,\n",
       "                                                                   OneHotEncoder(handle_unknown=&#x27;ignore&#x27;))]),\n",
       "                                                  [&#x27;street_id&#x27;, &#x27;build_tech&#x27;,\n",
       "                                                   &#x27;rooms&#x27;, &#x27;balcon&#x27;, &#x27;g_lift&#x27;,\n",
       "                                                   &#x27;month&#x27;, &#x27;kw1&#x27;, &#x27;kw2&#x27;, &#x27;kw3&#x27;,\n",
       "                                                   &#x27;kw4&#x27;, &#x27;kw5&#x27;, &#x27;kw6&#x27;, &#x27;kw7&#x27;,\n",
       "                                                   &#x27;kw8&#x27;, &#x27;kw9&#x27;, &#x27;kw10&#x27;, &#x27;kw11&#x27;,\n",
       "                                                   &#x27;kw12&#x27;, &#x27;kw13&#x27;])])),\n",
       "                (&#x27;regressor&#x27;,\n",
       "                 &lt;catboost.core.CatBoostRegressor object at 0x7f17352f5210&gt;)])</pre><b>In a Jupyter environment, please rerun this cell to show the HTML representation or trust the notebook. <br />On GitHub, the HTML representation is unable to render, please try loading this page with nbviewer.org.</b></div><div class=\"sk-container\" hidden><div class=\"sk-item sk-dashed-wrapped\"><div class=\"sk-label-container\"><div class=\"sk-label sk-toggleable\"><input class=\"sk-toggleable__control sk-hidden--visually\" id=\"sk-estimator-id-71\" type=\"checkbox\" ><label for=\"sk-estimator-id-71\" class=\"sk-toggleable__label sk-toggleable__label-arrow\">Pipeline</label><div class=\"sk-toggleable__content\"><pre>Pipeline(steps=[(&#x27;preprocessor&#x27;,\n",
       "                 ColumnTransformer(transformers=[(&#x27;num&#x27;,\n",
       "                                                  Pipeline(steps=[(&#x27;imputer&#x27;,\n",
       "                                                                   SimpleImputer(strategy=&#x27;median&#x27;)),\n",
       "                                                                  (&#x27;scaler&#x27;,\n",
       "                                                                   StandardScaler())]),\n",
       "                                                  [&#x27;floor&#x27;, &#x27;area&#x27;,\n",
       "                                                   &#x27;metro_dist&#x27;, &#x27;n_photos&#x27;,\n",
       "                                                   &#x27;year&#x27;]),\n",
       "                                                 (&#x27;cat&#x27;,\n",
       "                                                  Pipeline(steps=[(&#x27;imputer&#x27;,\n",
       "                                                                   SimpleImputer(strategy=&#x27;most_frequent&#x27;)),\n",
       "                                                                  (&#x27;onehot&#x27;,\n",
       "                                                                   OneHotEncoder(handle_unknown=&#x27;ignore&#x27;))]),\n",
       "                                                  [&#x27;street_id&#x27;, &#x27;build_tech&#x27;,\n",
       "                                                   &#x27;rooms&#x27;, &#x27;balcon&#x27;, &#x27;g_lift&#x27;,\n",
       "                                                   &#x27;month&#x27;, &#x27;kw1&#x27;, &#x27;kw2&#x27;, &#x27;kw3&#x27;,\n",
       "                                                   &#x27;kw4&#x27;, &#x27;kw5&#x27;, &#x27;kw6&#x27;, &#x27;kw7&#x27;,\n",
       "                                                   &#x27;kw8&#x27;, &#x27;kw9&#x27;, &#x27;kw10&#x27;, &#x27;kw11&#x27;,\n",
       "                                                   &#x27;kw12&#x27;, &#x27;kw13&#x27;])])),\n",
       "                (&#x27;regressor&#x27;,\n",
       "                 &lt;catboost.core.CatBoostRegressor object at 0x7f17352f5210&gt;)])</pre></div></div></div><div class=\"sk-serial\"><div class=\"sk-item sk-dashed-wrapped\"><div class=\"sk-label-container\"><div class=\"sk-label sk-toggleable\"><input class=\"sk-toggleable__control sk-hidden--visually\" id=\"sk-estimator-id-72\" type=\"checkbox\" ><label for=\"sk-estimator-id-72\" class=\"sk-toggleable__label sk-toggleable__label-arrow\">preprocessor: ColumnTransformer</label><div class=\"sk-toggleable__content\"><pre>ColumnTransformer(transformers=[(&#x27;num&#x27;,\n",
       "                                 Pipeline(steps=[(&#x27;imputer&#x27;,\n",
       "                                                  SimpleImputer(strategy=&#x27;median&#x27;)),\n",
       "                                                 (&#x27;scaler&#x27;, StandardScaler())]),\n",
       "                                 [&#x27;floor&#x27;, &#x27;area&#x27;, &#x27;metro_dist&#x27;, &#x27;n_photos&#x27;,\n",
       "                                  &#x27;year&#x27;]),\n",
       "                                (&#x27;cat&#x27;,\n",
       "                                 Pipeline(steps=[(&#x27;imputer&#x27;,\n",
       "                                                  SimpleImputer(strategy=&#x27;most_frequent&#x27;)),\n",
       "                                                 (&#x27;onehot&#x27;,\n",
       "                                                  OneHotEncoder(handle_unknown=&#x27;ignore&#x27;))]),\n",
       "                                 [&#x27;street_id&#x27;, &#x27;build_tech&#x27;, &#x27;rooms&#x27;, &#x27;balcon&#x27;,\n",
       "                                  &#x27;g_lift&#x27;, &#x27;month&#x27;, &#x27;kw1&#x27;, &#x27;kw2&#x27;, &#x27;kw3&#x27;, &#x27;kw4&#x27;,\n",
       "                                  &#x27;kw5&#x27;, &#x27;kw6&#x27;, &#x27;kw7&#x27;, &#x27;kw8&#x27;, &#x27;kw9&#x27;, &#x27;kw10&#x27;,\n",
       "                                  &#x27;kw11&#x27;, &#x27;kw12&#x27;, &#x27;kw13&#x27;])])</pre></div></div></div><div class=\"sk-parallel\"><div class=\"sk-parallel-item\"><div class=\"sk-item\"><div class=\"sk-label-container\"><div class=\"sk-label sk-toggleable\"><input class=\"sk-toggleable__control sk-hidden--visually\" id=\"sk-estimator-id-73\" type=\"checkbox\" ><label for=\"sk-estimator-id-73\" class=\"sk-toggleable__label sk-toggleable__label-arrow\">num</label><div class=\"sk-toggleable__content\"><pre>[&#x27;floor&#x27;, &#x27;area&#x27;, &#x27;metro_dist&#x27;, &#x27;n_photos&#x27;, &#x27;year&#x27;]</pre></div></div></div><div class=\"sk-serial\"><div class=\"sk-item\"><div class=\"sk-serial\"><div class=\"sk-item\"><div class=\"sk-estimator sk-toggleable\"><input class=\"sk-toggleable__control sk-hidden--visually\" id=\"sk-estimator-id-74\" type=\"checkbox\" ><label for=\"sk-estimator-id-74\" class=\"sk-toggleable__label sk-toggleable__label-arrow\">SimpleImputer</label><div class=\"sk-toggleable__content\"><pre>SimpleImputer(strategy=&#x27;median&#x27;)</pre></div></div></div><div class=\"sk-item\"><div class=\"sk-estimator sk-toggleable\"><input class=\"sk-toggleable__control sk-hidden--visually\" id=\"sk-estimator-id-75\" type=\"checkbox\" ><label for=\"sk-estimator-id-75\" class=\"sk-toggleable__label sk-toggleable__label-arrow\">StandardScaler</label><div class=\"sk-toggleable__content\"><pre>StandardScaler()</pre></div></div></div></div></div></div></div></div><div class=\"sk-parallel-item\"><div class=\"sk-item\"><div class=\"sk-label-container\"><div class=\"sk-label sk-toggleable\"><input class=\"sk-toggleable__control sk-hidden--visually\" id=\"sk-estimator-id-76\" type=\"checkbox\" ><label for=\"sk-estimator-id-76\" class=\"sk-toggleable__label sk-toggleable__label-arrow\">cat</label><div class=\"sk-toggleable__content\"><pre>[&#x27;street_id&#x27;, &#x27;build_tech&#x27;, &#x27;rooms&#x27;, &#x27;balcon&#x27;, &#x27;g_lift&#x27;, &#x27;month&#x27;, &#x27;kw1&#x27;, &#x27;kw2&#x27;, &#x27;kw3&#x27;, &#x27;kw4&#x27;, &#x27;kw5&#x27;, &#x27;kw6&#x27;, &#x27;kw7&#x27;, &#x27;kw8&#x27;, &#x27;kw9&#x27;, &#x27;kw10&#x27;, &#x27;kw11&#x27;, &#x27;kw12&#x27;, &#x27;kw13&#x27;]</pre></div></div></div><div class=\"sk-serial\"><div class=\"sk-item\"><div class=\"sk-serial\"><div class=\"sk-item\"><div class=\"sk-estimator sk-toggleable\"><input class=\"sk-toggleable__control sk-hidden--visually\" id=\"sk-estimator-id-77\" type=\"checkbox\" ><label for=\"sk-estimator-id-77\" class=\"sk-toggleable__label sk-toggleable__label-arrow\">SimpleImputer</label><div class=\"sk-toggleable__content\"><pre>SimpleImputer(strategy=&#x27;most_frequent&#x27;)</pre></div></div></div><div class=\"sk-item\"><div class=\"sk-estimator sk-toggleable\"><input class=\"sk-toggleable__control sk-hidden--visually\" id=\"sk-estimator-id-78\" type=\"checkbox\" ><label for=\"sk-estimator-id-78\" class=\"sk-toggleable__label sk-toggleable__label-arrow\">OneHotEncoder</label><div class=\"sk-toggleable__content\"><pre>OneHotEncoder(handle_unknown=&#x27;ignore&#x27;)</pre></div></div></div></div></div></div></div></div></div></div><div class=\"sk-item\"><div class=\"sk-estimator sk-toggleable\"><input class=\"sk-toggleable__control sk-hidden--visually\" id=\"sk-estimator-id-79\" type=\"checkbox\" ><label for=\"sk-estimator-id-79\" class=\"sk-toggleable__label sk-toggleable__label-arrow\">CatBoostRegressor</label><div class=\"sk-toggleable__content\"><pre>&lt;catboost.core.CatBoostRegressor object at 0x7f17352f5210&gt;</pre></div></div></div></div></div></div></div>"
      ],
      "text/plain": [
       "Pipeline(steps=[('preprocessor',\n",
       "                 ColumnTransformer(transformers=[('num',\n",
       "                                                  Pipeline(steps=[('imputer',\n",
       "                                                                   SimpleImputer(strategy='median')),\n",
       "                                                                  ('scaler',\n",
       "                                                                   StandardScaler())]),\n",
       "                                                  ['floor', 'area',\n",
       "                                                   'metro_dist', 'n_photos',\n",
       "                                                   'year']),\n",
       "                                                 ('cat',\n",
       "                                                  Pipeline(steps=[('imputer',\n",
       "                                                                   SimpleImputer(strategy='most_frequent')),\n",
       "                                                                  ('onehot',\n",
       "                                                                   OneHotEncoder(handle_unknown='ignore'))]),\n",
       "                                                  ['street_id', 'build_tech',\n",
       "                                                   'rooms', 'balcon', 'g_lift',\n",
       "                                                   'month', 'kw1', 'kw2', 'kw3',\n",
       "                                                   'kw4', 'kw5', 'kw6', 'kw7',\n",
       "                                                   'kw8', 'kw9', 'kw10', 'kw11',\n",
       "                                                   'kw12', 'kw13'])])),\n",
       "                ('regressor',\n",
       "                 <catboost.core.CatBoostRegressor object at 0x7f17352f5210>)])"
      ]
     },
     "execution_count": 181,
     "metadata": {},
     "output_type": "execute_result"
    }
   ],
   "source": [
    "# объединение пайплайна для обработки признаков с моделью градиентного бустинга CatBoost\n",
    "final_catboost_model = Pipeline(steps=[('preprocessor', preprocessor),\n",
    "                                 ('regressor', CatBoostRegressor(\n",
    "                                    random_seed=42, \n",
    "                                    verbose=0,\n",
    "                                    depth=10,\n",
    "                                    iterations=10000,\n",
    "                                    learning_rate=0.1))])\n",
    "final_catboost_model.fit(X_train, y_train)"
   ]
  },
  {
   "cell_type": "code",
   "execution_count": 188,
   "metadata": {},
   "outputs": [
    {
     "name": "stdout",
     "output_type": "stream",
     "text": [
      "Train MAE: 313205.59425318876\n"
     ]
    }
   ],
   "source": [
    "gen_submit(final_catboost_model)"
   ]
  },
  {
   "cell_type": "code",
   "execution_count": 183,
   "metadata": {},
   "outputs": [
    {
     "name": "stdout",
     "output_type": "stream",
     "text": [
      "Train MAE: 66043.40044810559\n"
     ]
    }
   ],
   "source": [
    "# объединение пайплайна для обработки признаков с моделью градиентного бустинга\n",
    "final_gb_model = Pipeline(steps=[('preprocessor', preprocessor),\n",
    "                           ('regressor', GradientBoostingRegressor(\n",
    "                                random_state=42, \n",
    "                                learning_rate=0.1,\n",
    "                                max_depth=10,\n",
    "                                n_estimators=5000))])\n",
    "final_gb_model.fit(X_train, y_train)\n",
    "gen_submit(final_gb_model)"
   ]
  },
  {
   "cell_type": "code",
   "execution_count": 184,
   "metadata": {},
   "outputs": [
    {
     "name": "stdout",
     "output_type": "stream",
     "text": [
      "Train MAE: 66043.40044810559\n"
     ]
    }
   ],
   "source": [
    "gen_submit(final_gb_model)"
   ]
  }
 ],
 "metadata": {
  "kernelspec": {
   "display_name": "Python 3",
   "language": "python",
   "name": "python3"
  },
  "language_info": {
   "codemirror_mode": {
    "name": "ipython",
    "version": 3
   },
   "file_extension": ".py",
   "mimetype": "text/x-python",
   "name": "python",
   "nbconvert_exporter": "python",
   "pygments_lexer": "ipython3",
   "version": "3.10.6"
  },
  "orig_nbformat": 4
 },
 "nbformat": 4,
 "nbformat_minor": 2
}
