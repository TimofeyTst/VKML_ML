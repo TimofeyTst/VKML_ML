{
 "cells": [
  {
   "cell_type": "code",
   "execution_count": 184,
   "metadata": {
    "ExecuteTime": {
     "end_time": "2021-10-04T15:58:35.869898Z",
     "start_time": "2021-10-04T15:58:35.420168Z"
    }
   },
   "outputs": [],
   "source": [
    "import numpy as np"
   ]
  },
  {
   "cell_type": "markdown",
   "metadata": {},
   "source": [
    "# Максимум 5 баллов - по ~0.7 баллов за задание"
   ]
  },
  {
   "cell_type": "markdown",
   "metadata": {},
   "source": [
    "### 1. Подсчитать произведение ненулевых элементов на диагонали прямоугольной матрицы. \n",
    "Для X = np.array([[1, 0, 1], [2, 0, 2], [3, 0, 3], [4, 4, 4]]) ответ 3."
   ]
  },
  {
   "cell_type": "code",
   "execution_count": 185,
   "metadata": {},
   "outputs": [],
   "source": [
    "n = 100\n",
    "x = np.array([[1,0,1], [2,0,2], [3,0,3], [4,4,4]])\n",
    "x = np.random.randint(2, size=(n,n))"
   ]
  },
  {
   "cell_type": "markdown",
   "metadata": {},
   "source": [
    "#### 1.1 Полностью векторная реализация"
   ]
  },
  {
   "cell_type": "code",
   "execution_count": 186,
   "metadata": {},
   "outputs": [
    {
     "name": "stdout",
     "output_type": "stream",
     "text": [
      "12.1 µs ± 3.51 µs per loop (mean ± std. dev. of 7 runs, 1,000 loops each)\n"
     ]
    }
   ],
   "source": [
    "%%timeit -n1000\n",
    "(np.diag(x)[np.diag(x) != 0]).prod()"
   ]
  },
  {
   "cell_type": "markdown",
   "metadata": {},
   "source": [
    "#### 1.2 Реализация без векторов"
   ]
  },
  {
   "cell_type": "code",
   "execution_count": 187,
   "metadata": {},
   "outputs": [
    {
     "name": "stdout",
     "output_type": "stream",
     "text": [
      "34.9 µs ± 4.76 µs per loop (mean ± std. dev. of 7 runs, 1,000 loops each)\n"
     ]
    }
   ],
   "source": [
    "%%timeit -n1000\n",
    "res = 1\n",
    "for i in range(x.shape[1]):\n",
    "    if x[i][i] != 0:\n",
    "        res *= x[i][i]\n",
    "res"
   ]
  },
  {
   "cell_type": "markdown",
   "metadata": {},
   "source": [
    "#### 1.3 Альтернативное решение"
   ]
  },
  {
   "cell_type": "code",
   "execution_count": 188,
   "metadata": {},
   "outputs": [
    {
     "name": "stdout",
     "output_type": "stream",
     "text": [
      "2.48 ms ± 117 µs per loop (mean ± std. dev. of 7 runs, 100 loops each)\n"
     ]
    }
   ],
   "source": [
    "%%timeit -n100\n",
    "res = 1\n",
    "for i, el in np.ndenumerate(x):\n",
    "    if i[0] == i[1] and el != 0:\n",
    "        res *= el\n",
    "res"
   ]
  },
  {
   "cell_type": "markdown",
   "metadata": {},
   "source": [
    "#### 1.4 Выводы"
   ]
  },
  {
   "cell_type": "markdown",
   "metadata": {},
   "source": [
    "| N | Векторный | Безвекторный | Алтернативный |\n",
    "| - | ------------- | ------------- | ------------- | \n",
    "| 10  | 8.24 µs  | 5.52 µs | 23.6 µs |\n",
    "| 100  | 9.08 µs  | 29.2 µs  | 2.31 ms  |\n",
    "| 1000  | 11.4 µs  | 307 µs | 226 ms |\n",
    "\n",
    "Как видим, вариант без использования векторов на малом размере массива оказался немного быстрее векторного, но затем ни один из методов не был близок по скорости к векторному методу. Причем Сам векторный метод изменился совсем не сильно по скорости отработки с увелечением размера массива"
   ]
  },
  {
   "cell_type": "markdown",
   "metadata": {},
   "source": [
    "### 2. Дана матрица X и два вектора одинаковой длины i и j. Построить вектор np.array([X[i[0], j[0]], X[i[1], j[1]], ... , X[i[N-1], j[N-1]]])."
   ]
  },
  {
   "cell_type": "code",
   "execution_count": 189,
   "metadata": {},
   "outputs": [],
   "source": [
    "n = 100\n",
    "x = np.random.randint(0, n*n, size=(n, n))\n",
    "i = np.random.randint(0, n, size=n)\n",
    "j = np.random.randint(0, n, size=n)\n",
    "x = np.array([[1,0,1], [2,0,2], [3,0,3], [4,5,6]])\n",
    "i = [1,1,1,1,1,1,1,1,1,3]\n",
    "j = [1,1,1,1,1,1,1,1,1,2]"
   ]
  },
  {
   "cell_type": "markdown",
   "metadata": {},
   "source": [
    "#### 2.1 Полностью векторная реализация"
   ]
  },
  {
   "cell_type": "code",
   "execution_count": 194,
   "metadata": {},
   "outputs": [
    {
     "name": "stdout",
     "output_type": "stream",
     "text": [
      "5.6 µs ± 1.17 µs per loop (mean ± std. dev. of 7 runs, 1,000 loops each)\n"
     ]
    }
   ],
   "source": [
    "%%timeit -n1000\n",
    "X = x[i,j]"
   ]
  },
  {
   "cell_type": "markdown",
   "metadata": {},
   "source": [
    "#### 2.2 Реализация без векторов"
   ]
  },
  {
   "cell_type": "code",
   "execution_count": 191,
   "metadata": {
    "scrolled": false
   },
   "outputs": [
    {
     "name": "stdout",
     "output_type": "stream",
     "text": [
      "6.47 µs ± 1.09 µs per loop (mean ± std. dev. of 7 runs, 1,000 loops each)\n"
     ]
    }
   ],
   "source": [
    "%%timeit -n1000\n",
    "X = np.zeros(n)\n",
    "for cur in range(len(i)):\n",
    "    X[cur] = x[i[cur]][j[cur]]"
   ]
  },
  {
   "cell_type": "markdown",
   "metadata": {},
   "source": [
    "#### 2.3 Альтернативное решение"
   ]
  },
  {
   "cell_type": "code",
   "execution_count": 192,
   "metadata": {},
   "outputs": [
    {
     "name": "stdout",
     "output_type": "stream",
     "text": [
      "7.41 µs ± 1.33 µs per loop (mean ± std. dev. of 7 runs, 10,000 loops each)\n"
     ]
    }
   ],
   "source": [
    "%%timeit -n10000\n",
    "ij = np.vstack((i, j)).T\n",
    "X = x[ ij[:, 0], ij[:, 1] ]"
   ]
  },
  {
   "cell_type": "markdown",
   "metadata": {},
   "source": [
    "#### 2.4 Выводы"
   ]
  },
  {
   "cell_type": "markdown",
   "metadata": {},
   "source": [
    "| N | Векторный | Безвекторный | Алтернативный |\n",
    "| - | ------------- | ------------- | ------------- | \n",
    "| 10  | 3.54 µs  | 3.99 µs | 6.28 µs |\n",
    "| 100  | 3.28 µs  | 3.9 µs  | 6.44 µs  |\n",
    "| 1000  | 3.8 µs  | 5.22 µs | 6.34 ms |\n",
    "\n",
    "Вариант с использованием векторов оказался немного быстрее всех других"
   ]
  },
  {
   "cell_type": "markdown",
   "metadata": {},
   "source": [
    "### 3. Даны два вектора x и y. Проверить, задают ли они одно и то же мультимножество. \n",
    "Для x = np.array([1, 2, 2, 4]), y = np.array([4, 2, 1, 2]) ответ True."
   ]
  },
  {
   "cell_type": "code",
   "execution_count": 195,
   "metadata": {},
   "outputs": [],
   "source": [
    "n = 100\n",
    "x = np.array([1, 2, 2, 4])\n",
    "y = np.array([4, 2, 1, 2])\n",
    "x = np.random.randint(10, size = n)\n",
    "y = np.random.permutation(x)"
   ]
  },
  {
   "cell_type": "markdown",
   "metadata": {},
   "source": [
    "#### 3.1 Полностью векторная реализация"
   ]
  },
  {
   "cell_type": "code",
   "execution_count": 196,
   "metadata": {},
   "outputs": [
    {
     "name": "stdout",
     "output_type": "stream",
     "text": [
      "8.25 µs ± 1.56 µs per loop (mean ± std. dev. of 7 runs, 1,000 loops each)\n"
     ]
    }
   ],
   "source": [
    "%%timeit -n1000\n",
    "(np.sort(y) == np.sort(x)).all()"
   ]
  },
  {
   "cell_type": "markdown",
   "metadata": {},
   "source": [
    "#### 3.2 Реализация без векторов"
   ]
  },
  {
   "cell_type": "code",
   "execution_count": 197,
   "metadata": {},
   "outputs": [
    {
     "name": "stdout",
     "output_type": "stream",
     "text": [
      "27.4 µs ± 4.26 µs per loop (mean ± std. dev. of 7 runs, 1,000 loops each)\n"
     ]
    }
   ],
   "source": [
    "%%timeit -n1000\n",
    "sorted(y) == sorted(x)"
   ]
  },
  {
   "cell_type": "markdown",
   "metadata": {},
   "source": [
    "#### 3.3 Альтернативное решение"
   ]
  },
  {
   "cell_type": "code",
   "execution_count": 198,
   "metadata": {},
   "outputs": [
    {
     "name": "stdout",
     "output_type": "stream",
     "text": [
      "1.55 µs ± 329 ns per loop (mean ± std. dev. of 7 runs, 1,000 loops each)\n"
     ]
    }
   ],
   "source": [
    "%%timeit -n1000\n",
    "y.sort() == x.sort()"
   ]
  },
  {
   "cell_type": "markdown",
   "metadata": {},
   "source": [
    "#### 3.4 Выводы"
   ]
  },
  {
   "cell_type": "markdown",
   "metadata": {},
   "source": [
    "| N | Векторный | Безвекторный | Алтернативный |\n",
    "| - | ------------- | ------------- | ------------- | \n",
    "| 10  | 6.96 µs  | 4.3 µs | 573 ns |\n",
    "| 100  | 6.96 µs  | 23.7 µs  | 1.07 µs  |\n",
    "| 1000  | 25 µs  | 289 µs | 7.57 µs |\n",
    "\n",
    "Альтернативный варинт с использованием векторов оказался быстрее других, в нем использовались функции от прямого объекта, в отличие от 1 варианта. Безвекторный сильно медленее"
   ]
  },
  {
   "cell_type": "markdown",
   "metadata": {},
   "source": [
    "### 4. Найти максимальный элемент в векторе x среди элементов, перед которыми стоит нулевой. \n",
    "Для x = np.array([6, 2, 0, 3, 0, 0, 5, 7, 0]) ответ 5."
   ]
  },
  {
   "cell_type": "code",
   "execution_count": 199,
   "metadata": {},
   "outputs": [],
   "source": [
    "n = 100\n",
    "x = np.array([6, 2, 0, 3, 0, 0, 5, 7, 0])\n",
    "x = np.random.randint(10, size = n)\n",
    "x[0] = 0\n",
    "# x = np.array([ 6, 2, 0, 0, 3, 5, 7])\n",
    "# x = np.array([6, 2, 1, 3, 1, 1, 5, 7, 1, 0, 99])"
   ]
  },
  {
   "cell_type": "markdown",
   "metadata": {},
   "source": [
    "#### 4.1 Полностью векторная реализация"
   ]
  },
  {
   "cell_type": "code",
   "execution_count": 200,
   "metadata": {},
   "outputs": [
    {
     "name": "stdout",
     "output_type": "stream",
     "text": [
      "18.1 µs ± 4.75 µs per loop (mean ± std. dev. of 7 runs, 1,000 loops each)\n"
     ]
    }
   ],
   "source": [
    "%%timeit -n1000\n",
    "mask = np.insert(x == 0, 0, False)[:-1]\n",
    "# Создали маску равных 0, которую сдвинули лишним False и срезали последний\n",
    "x[mask].max()"
   ]
  },
  {
   "cell_type": "markdown",
   "metadata": {},
   "source": [
    "#### 4.2 Реализация без векторов"
   ]
  },
  {
   "cell_type": "code",
   "execution_count": 201,
   "metadata": {},
   "outputs": [
    {
     "name": "stdout",
     "output_type": "stream",
     "text": [
      "14.7 µs ± 3.79 µs per loop (mean ± std. dev. of 7 runs, 1,000 loops each)\n"
     ]
    }
   ],
   "source": [
    "%%timeit -n1000\n",
    "res = 0\n",
    "for i in range(len(x)-1):\n",
    "    if x[i] == 0:\n",
    "       res = max(res, x[i+1]) \n",
    "res"
   ]
  },
  {
   "cell_type": "markdown",
   "metadata": {},
   "source": [
    "#### 4.3 Альтернативное решение"
   ]
  },
  {
   "cell_type": "code",
   "execution_count": 202,
   "metadata": {},
   "outputs": [
    {
     "name": "stdout",
     "output_type": "stream",
     "text": [
      "9.61 µs ± 1.95 µs per loop (mean ± std. dev. of 7 runs, 1,000 loops each)\n"
     ]
    }
   ],
   "source": [
    "%%timeit -n1000\n",
    "mask = np.zeros(len(x) + 1, dtype=bool)\n",
    "mask[1:] = (x == 0)\n",
    "x[mask[:-1]].max()"
   ]
  },
  {
   "cell_type": "markdown",
   "metadata": {},
   "source": [
    "#### 4.4 Выводы"
   ]
  },
  {
   "cell_type": "markdown",
   "metadata": {},
   "source": [
    "| N | Векторный | Безвекторный | Алтернативный |\n",
    "| - | ------------- | ------------- | ------------- | \n",
    "| 10  | 15.1 µs  | 1.25 µs | 5.57 µs |\n",
    "| 100  | 14.9 µs  | 11.5 µs  | 6.49 µs  |\n",
    "| 1000  | 16.4 µs  | 124 µs | 6.58 µs |\n",
    "\n",
    "Альтернативный вариант с использованием векторов оказался на удивление быстрее других, в нем в отличие от 1 варианта использовано создание массива нулей и срезы массива для вставки и отображения. В первом варианте пользовались функцией вставки."
   ]
  },
  {
   "cell_type": "markdown",
   "metadata": {},
   "source": [
    "### 5. Дан трёхмерный массив, содержащий изображение, размера (height, width, numChannels), а также вектор длины numChannels. Сложить каналы изображения с указанными весами, и вернуть результат в виде матрицы размера (height, width). Считать реальное изображение можно при помощи функции scipy.misc.imread (если изображение не в формате png, установите пакет pillow: conda install pillow). Преобразуйте цветное изображение в оттенки серого, использовав коэффициенты np.array([0.299, 0.587, 0.114])."
   ]
  },
  {
   "cell_type": "code",
   "execution_count": 203,
   "metadata": {},
   "outputs": [],
   "source": [
    "import matplotlib.pyplot as plt\n",
    "import numpy as np\n",
    "from imageio import v3 as iio"
   ]
  },
  {
   "cell_type": "code",
   "execution_count": 208,
   "metadata": {},
   "outputs": [
    {
     "data": {
      "text/plain": [
       "(191, 308, 3)"
      ]
     },
     "execution_count": 208,
     "metadata": {},
     "output_type": "execute_result"
    }
   ],
   "source": [
    "%matplotlib inline\n",
    "img = iio.imread('ex.png')[:,:,:-1] # 308 * 191\n",
    "qr = np.array([0.299, 0.587, 0.114])\n",
    "# plt.imshow(img)\n",
    "# plt.show()\n",
    "img.shape"
   ]
  },
  {
   "cell_type": "markdown",
   "metadata": {},
   "source": [
    "#### 5.1 Полностью векторная реализация"
   ]
  },
  {
   "cell_type": "code",
   "execution_count": 209,
   "metadata": {},
   "outputs": [
    {
     "name": "stdout",
     "output_type": "stream",
     "text": [
      "1.53 ms ± 557 µs per loop (mean ± std. dev. of 7 runs, 10 loops each)\n"
     ]
    }
   ],
   "source": [
    "%%timeit -n10\n",
    "img_grey = np.dot(img, qr)\n",
    "\n",
    "# plt.imshow(img_grey, cmap='gray')\n",
    "# plt.show()"
   ]
  },
  {
   "cell_type": "markdown",
   "metadata": {},
   "source": [
    "#### 5.2 Реализация без векторов"
   ]
  },
  {
   "cell_type": "code",
   "execution_count": 216,
   "metadata": {},
   "outputs": [
    {
     "name": "stdout",
     "output_type": "stream",
     "text": [
      "146 ms ± 13.1 ms per loop (mean ± std. dev. of 7 runs, 1 loop each)\n"
     ]
    }
   ],
   "source": [
    "%%timeit -n1\n",
    "img_grey = img\n",
    "for i in range(img.shape[0]):\n",
    "    for j in range(img.shape[1]):\n",
    "        cur = 0\n",
    "        for k in range(img.shape[2]):\n",
    "            cur += img[i][j][k] * qr[k]\n",
    "        img_grey[i][j] = cur\n",
    "\n",
    "# plt.imshow(img_grey, cmap='gray')\n",
    "# plt.show()"
   ]
  },
  {
   "cell_type": "markdown",
   "metadata": {},
   "source": [
    "#### 5.3 Альтернативное решение"
   ]
  },
  {
   "cell_type": "code",
   "execution_count": 215,
   "metadata": {},
   "outputs": [
    {
     "name": "stdout",
     "output_type": "stream",
     "text": [
      "93.8 ms ± 5.21 ms per loop (mean ± std. dev. of 7 runs, 10 loops each)\n"
     ]
    }
   ],
   "source": [
    "%%timeit -n10\n",
    "img_grey = (img * qr)\n",
    "img_grey = np.vstack(np.vstack(img_grey).sum(axis=1)) \n",
    "img_grey = img_grey.reshape(img.shape[0], img.shape[1], -1)\n",
    "\n",
    "# plt.imshow(img_grey, cmap='gray')\n",
    "# plt.show()"
   ]
  },
  {
   "cell_type": "code",
   "execution_count": null,
   "metadata": {},
   "outputs": [],
   "source": [
    "plt.imshow(img_grey, cmap='gray')\n",
    "plt.show()"
   ]
  },
  {
   "cell_type": "markdown",
   "metadata": {},
   "source": [
    "#### 5.4 Выводы"
   ]
  },
  {
   "cell_type": "markdown",
   "metadata": {},
   "source": [
    "| img.shape | Векторный | Безвекторный | Алтернативный |\n",
    "| - | ------------- | ------------- | ------------- | \n",
    "| (191, 308, 3)  | 1.15 ms  | 139 ms | 79.1 ms |\n",
    "| (908, 908, 3)  | 12.4 ms  | 1.73 s  | 1.52 s  |\n",
    "| (931, 1105, 3)  | 17.6 ms  | 2.42 s | 1.65 s |\n",
    "\n",
    "Векторный вариант работает за одинаковые порядки времени даже при изменении объема массива, и явно быстрее других методов реализации."
   ]
  },
  {
   "cell_type": "markdown",
   "metadata": {},
   "source": [
    "### 6. Реализовать кодирование длин серий (Run-length encoding). Дан вектор x. Необходимо вернуть кортеж из двух векторов одинаковой длины. Первый содержит числа, а второй - сколько раз их нужно повторить. \n",
    "Пример: x = np.array([2, 2, 2, 3, 3, 3, 5, 2, 2]). Ответ: (np.array([2, 3, 5, 2]), np.array([3, 3, 1, 2]))."
   ]
  },
  {
   "cell_type": "code",
   "execution_count": 221,
   "metadata": {},
   "outputs": [
    {
     "data": {
      "text/plain": [
       "(1152,)"
      ]
     },
     "execution_count": 221,
     "metadata": {},
     "output_type": "execute_result"
    }
   ],
   "source": [
    "# x = np.array([9, 2, 2, 2, 3, 3, 3, 5, 2, 2, 7])\n",
    "x = np.array([2, 2, 2, 3, 3, 3, 5, 2, 2])\n",
    "for i in range(7):\n",
    "    x = np.concatenate([x,x])\n",
    "x.shape"
   ]
  },
  {
   "cell_type": "markdown",
   "metadata": {},
   "source": [
    "#### 6.1 Полностью векторная реализация"
   ]
  },
  {
   "cell_type": "code",
   "execution_count": 147,
   "metadata": {},
   "outputs": [],
   "source": [
    "def union_repeats(x):\n",
    "    split_indices = np.flatnonzero(np.diff(x, prepend=np.nan))\n",
    "    # Достаем ненулевые индексы с добавлением пустого в конец. Под ними наши уникальные числа\n",
    "    numbers = x[split_indices]\n",
    "    segments = np.split(x, split_indices)[1:]\n",
    "    counts = [len(seg) for seg in segments]\n",
    "    return numbers, counts"
   ]
  },
  {
   "cell_type": "code",
   "execution_count": 222,
   "metadata": {},
   "outputs": [
    {
     "name": "stdout",
     "output_type": "stream",
     "text": [
      "480 µs ± 76 µs per loop (mean ± std. dev. of 7 runs, 100 loops each)\n"
     ]
    }
   ],
   "source": [
    "%%timeit -n100\n",
    "union_repeats(x)"
   ]
  },
  {
   "cell_type": "markdown",
   "metadata": {},
   "source": [
    "#### 6.2 Реализация без векторов"
   ]
  },
  {
   "cell_type": "code",
   "execution_count": 149,
   "metadata": {},
   "outputs": [],
   "source": [
    "def union_repeats_v2(x):\n",
    "    numbers = []\n",
    "    counts = []\n",
    "    count = 1\n",
    "    for i in range(len(x)):\n",
    "        if (i == len(x) - 1) or (x[i] != x[i+1]):\n",
    "            numbers.append(x[i])\n",
    "            counts.append(count)\n",
    "            count = 1\n",
    "        else:\n",
    "            count += 1\n",
    "    return numbers, counts"
   ]
  },
  {
   "cell_type": "code",
   "execution_count": 223,
   "metadata": {},
   "outputs": [
    {
     "name": "stdout",
     "output_type": "stream",
     "text": [
      "400 µs ± 107 µs per loop (mean ± std. dev. of 7 runs, 100 loops each)\n"
     ]
    }
   ],
   "source": [
    "%%timeit -n100\n",
    "union_repeats_v2(x)"
   ]
  },
  {
   "cell_type": "markdown",
   "metadata": {},
   "source": [
    "#### 6.3 Альтернативное решение"
   ]
  },
  {
   "cell_type": "code",
   "execution_count": 151,
   "metadata": {},
   "outputs": [],
   "source": [
    "def union_repeats_v3(x):\n",
    "    indices = np.where(np.diff(x) != 0)[0] + 1\n",
    "    segments = np.split(x, indices)\n",
    "    numbers = np.concatenate([segment[:1] for segment in segments])\n",
    "    counts = np.array([len(segment) for segment in segments])\n",
    "    return numbers, counts"
   ]
  },
  {
   "cell_type": "code",
   "execution_count": 224,
   "metadata": {},
   "outputs": [
    {
     "name": "stdout",
     "output_type": "stream",
     "text": [
      "600 µs ± 113 µs per loop (mean ± std. dev. of 7 runs, 100 loops each)\n"
     ]
    }
   ],
   "source": [
    "%%timeit -n100\n",
    "union_repeats_v3(x)"
   ]
  },
  {
   "cell_type": "markdown",
   "metadata": {},
   "source": [
    "#### 6.4 Выводы"
   ]
  },
  {
   "cell_type": "markdown",
   "metadata": {},
   "source": [
    "| x.shape | Векторный | Безвекторный | Алтернативный |\n",
    "| - | ------------- | ------------- | ------------- | \n",
    "| 36  | 48.8 µs  | 11.4 µs | 39.5 µs |\n",
    "| 576  | 210 µs  | 166 µs | 264 µs |\n",
    "| 1152  | 394 µs  | 319 µs  | 503 µs  |\n",
    "| 9216  | 3.18 ms  | 3.1 ms | 4.25 ms |\n",
    "\n",
    "Безвекторный вариант оказался быстрее во всех случаях, но незначительно"
   ]
  },
  {
   "cell_type": "markdown",
   "metadata": {},
   "source": [
    "### 7. Даны две выборки объектов - X и Y. Вычислить матрицу евклидовых расстояний между объектами. Сравнить с функцией scipy.spatial.distance.cdist."
   ]
  },
  {
   "cell_type": "markdown",
   "metadata": {
    "ExecuteTime": {
     "end_time": "2021-10-04T16:02:41.398576Z",
     "start_time": "2021-10-04T16:02:41.395795Z"
    }
   },
   "source": [
    "##### Замечание. Можно считать, что все указанные объекты непустые (к примеру, в задаче №1 на диагонали матрицы есть ненулевые элементы).\n",
    "Полезные функции NumPy: np.zeros, np.ones, np.diag, np.eye, np.arange, np.linspace, np.meshgrid,\n",
    "np.random.random, np.random.randint, np.shape, np.reshape, np.transpose, np.any, np.all, np.nonzero, np.where,\n",
    "np.sum, np.cumsum, np.prod, np.diff, np.min, np.max, np.minimum, np.maximum, np.argmin, np.argmax, np.unique,\n",
    "np.sort, np.argsort, np.bincount, np.ravel, np.newaxis, np.dot, np.linalg.inv, np.linalg.solve.\n",
    "Многие из этих функций можно использовать так: x.argmin()."
   ]
  },
  {
   "cell_type": "code",
   "execution_count": 176,
   "metadata": {},
   "outputs": [],
   "source": [
    "n = 1000\n",
    "# X = np.array([[1,2],[40,2],[1,2]])\n",
    "# Y = np.array([[3,2],[5,2]])\n",
    "# X = np.random.randint(10, size=(500,2))\n",
    "# Y = np.random.randint(10, size=(20,2))\n",
    "X = np.random.randint(10, size=(n,2))\n",
    "Y = np.random.randint(10, size=(n,2))"
   ]
  },
  {
   "cell_type": "markdown",
   "metadata": {},
   "source": [
    "#### 7.1 Полностью векторная реализация"
   ]
  },
  {
   "cell_type": "code",
   "execution_count": 178,
   "metadata": {},
   "outputs": [
    {
     "name": "stdout",
     "output_type": "stream",
     "text": [
      "3.75 s ± 87.9 ms per loop (mean ± std. dev. of 7 runs, 10 loops each)\n"
     ]
    }
   ],
   "source": [
    "%%timeit -n100\n",
    "res = np.zeros((X.shape[0], Y.shape[0]))\n",
    "for i, x in enumerate(X):\n",
    "    for j, y in enumerate(Y):\n",
    "        res[i, j] = np.linalg.norm(x - y)\n",
    "res"
   ]
  },
  {
   "cell_type": "code",
   "execution_count": 179,
   "metadata": {},
   "outputs": [
    {
     "name": "stdout",
     "output_type": "stream",
     "text": [
      "3.84 s ± 119 ms per loop (mean ± std. dev. of 7 runs, 10 loops each)\n"
     ]
    }
   ],
   "source": [
    "%%timeit -n100\n",
    "# Добавляем в конец массива, вместо обращения по индексам\n",
    "res = []\n",
    "for i, x in enumerate(X):\n",
    "    tmp = [] \n",
    "    for j, y in enumerate(Y):\n",
    "        tmp.append(np.linalg.norm(x - y))\n",
    "    res.append(tmp)\n",
    "res"
   ]
  },
  {
   "cell_type": "code",
   "execution_count": 180,
   "metadata": {},
   "outputs": [
    {
     "name": "stdout",
     "output_type": "stream",
     "text": [
      "4.06 s ± 65.7 ms per loop (mean ± std. dev. of 7 runs, 10 loops each)\n"
     ]
    }
   ],
   "source": [
    "%%timeit -n100\n",
    "# Не используем enumerate\n",
    "res = []\n",
    "for i in range(len(X)):\n",
    "    tmp = [] \n",
    "    for j in range(len(Y)):\n",
    "        tmp.append(np.linalg.norm(X[i] - Y[j]))\n",
    "    res.append(tmp)\n",
    "res"
   ]
  },
  {
   "cell_type": "markdown",
   "metadata": {},
   "source": [
    "#### 7.2 Реализация без векторов"
   ]
  },
  {
   "cell_type": "code",
   "execution_count": 182,
   "metadata": {},
   "outputs": [
    {
     "name": "stdout",
     "output_type": "stream",
     "text": [
      "2.26 s ± 45.3 ms per loop (mean ± std. dev. of 7 runs, 10 loops each)\n"
     ]
    }
   ],
   "source": [
    "%%timeit -n10\n",
    "def euclidean(x,y):\n",
    "    sum = 0\n",
    "    for i in range(len(x)):\n",
    "        sum += (x[i] - y[i]) ** 2\n",
    "    return sum ** 0.5\n",
    "    \n",
    "res = []\n",
    "for i in range(len(X)):\n",
    "    tmp = [] \n",
    "    for j in range(len(Y)):\n",
    "        tmp.append(euclidean(X[i], Y[j]))\n",
    "    res.append(tmp)\n",
    "res"
   ]
  },
  {
   "cell_type": "markdown",
   "metadata": {},
   "source": [
    "#### 7.3 Альтернативное решение"
   ]
  },
  {
   "cell_type": "code",
   "execution_count": 183,
   "metadata": {},
   "outputs": [
    {
     "name": "stdout",
     "output_type": "stream",
     "text": [
      "2.14 ms ± 525 µs per loop (mean ± std. dev. of 7 runs, 10 loops each)\n"
     ]
    }
   ],
   "source": [
    "%%timeit -n10\n",
    "from scipy.spatial.distance import cdist\n",
    "distances = cdist(X, Y, metric='euclidean')\n",
    "distances"
   ]
  },
  {
   "cell_type": "markdown",
   "metadata": {},
   "source": [
    "#### 7.4 Выводы"
   ]
  },
  {
   "cell_type": "markdown",
   "metadata": {},
   "source": [
    "| N | Векторный(лучший) | Безвекторный | Алтернативный |\n",
    "| - | ------------- | ------------- | ------------- | \n",
    "| 10  | 361 µs  | 209 µs | 5.72 µs |\n",
    "| 100  | 32.4 ms  | 22.7 ms | 36.5 µs |\n",
    "| 1000  | 3.75 s  | 2.26 s  | 2.14 ms  |\n",
    "\n",
    "Однозначно функция cdist в альтернативном варианте отрабатывает на порядки быстрее. Векторный и безвекторные варианты примерно одинаково работают, но безвекторный получился немного быстрее."
   ]
  },
  {
   "cell_type": "markdown",
   "metadata": {},
   "source": [
    "# Для каждой из задач:\n",
    "(a) Написать на Python + NumPy несколько вариантов кода различной эффективности. Должно быть не\n",
    "менее трёх вариантов, в том числе как минимум один полностью векторизованный вариант (без циклов), и один\n",
    "вариант без векторизации (с циклами). Третий вариант решения — на ваше усмотрение, например, это может быть\n",
    "наиболее хорошо читаемый способ решения, или частично векторизованный вариант. Все пункты выполнять в одном google collab, разделяя их пунктами 1., 1.1, 1.2, 1.3; 2., 2.1, 2.2, 2.3; и тд.\n",
    "\n",
    "(b) Сравнить в IPython Notebook при помощи %timeit скорость работы на нескольких тестовых наборах\n",
    "РАЗНОГО размера (минимум 3, причём отличаться размеры входных данных должны минимум на порядок. Например, массивы длины 100, 1000, 10000).\n",
    "\n",
    "(c) Проанализировать полученные данные о скорости работы разных реализаций.\n",
    "\n",
    "(d) Получить выводы."
   ]
  },
  {
   "cell_type": "markdown",
   "metadata": {},
   "source": [
    "Soft Deadline - 13 марта в 23:59\n",
    "Hard Deadline - 20 марта в 23:59"
   ]
  }
 ],
 "metadata": {
  "kernelspec": {
   "display_name": "Python 3 (ipykernel)",
   "language": "python",
   "name": "python3"
  },
  "language_info": {
   "codemirror_mode": {
    "name": "ipython",
    "version": 3
   },
   "file_extension": ".py",
   "mimetype": "text/x-python",
   "name": "python",
   "nbconvert_exporter": "python",
   "pygments_lexer": "ipython3",
   "version": "3.10.6"
  }
 },
 "nbformat": 4,
 "nbformat_minor": 2
}
